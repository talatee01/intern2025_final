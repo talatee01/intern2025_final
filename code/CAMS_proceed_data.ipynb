{
 "cells": [
  {
   "cell_type": "code",
   "execution_count": 2,
   "id": "585fa8e6",
   "metadata": {},
   "outputs": [],
   "source": [
    "import pandas as pd\n",
    "import numpy as np"
   ]
  },
  {
   "cell_type": "code",
   "execution_count": null,
   "id": "a321e274",
   "metadata": {},
   "outputs": [],
   "source": [
    "# อ่านข้อมูล metadata ของแต่ละ site\n",
    "site_df = pd.read_csv('../data/DeDe_49stations/DeDe_49sites_metadata.csv')\n",
    "for i, row in site_df.iterrows():\n",
    "    row = site_df.iloc[-1,:]\n",
    "    # อ่าน raw data ที่ดาวน์โหลดมา\n",
    "    df_15min = pd.read_csv(f'../data/CAMS/cams_time_series_15min/raw_data/cams_solar_rad_alti_8site{row['Site_id']}.csv',skiprows=42,sep=';')\n",
    "    df_1hr = pd.read_csv(f'../data/CAMS/cams_time_series_1hr/raw_data/cams_solar_rad_period_1hr_site{row['Site_id']}.csv',skiprows=42,sep=';')\n",
    "\n",
    "    # เปลี่ยนชื่อ columns เพื่อนำไปใช้ต่อไป\n",
    "    df_15min['Datetime'] = df_15min['# Observation period'].apply(lambda x : x.split('/')[-1])\n",
    "    df_15min['Datetime'] = pd.to_datetime(df_15min['Datetime'])\n",
    "    df_15min.drop(columns=['# Observation period'], inplace=True)\n",
    "\n",
    "    df_1hr['Datetime'] = df_1hr['# Observation period'].apply(lambda x : x.split('/')[-1])\n",
    "    df_1hr['Datetime'] = pd.to_datetime(df_1hr['Datetime'])\n",
    "    df_1hr.drop(columns=['# Observation period'], inplace=True)\n",
    "\n",
    "    # ปรับ timezone จาก UTC+0 ให้เป็น UTC+7\n",
    "    df_15min.set_index('Datetime', inplace=True)\n",
    "    df_15min = df_15min.tz_localize('UTC').tz_convert('Asia/Bangkok').tz_localize(None)\n",
    "    df_15min.reset_index(inplace=True)\n",
    "\n",
    "    df_1hr.set_index('Datetime', inplace=True)\n",
    "    df_1hr = df_1hr.tz_localize('UTC').tz_convert('Asia/Bangkok').tz_localize(None)\n",
    "    df_1hr.reset_index(inplace=True)\n",
    "\n",
    "    # กรองเฉพาะข้อมูลที่อยู่ในปี 2023\n",
    "    df_15min = df_15min[df_15min['Datetime'].dt.year == 2023]\n",
    "    df_1hr = df_1hr[df_1hr['Datetime'].dt.year == 2023]\n",
    "\n",
    "    # เก็บข้อมูล\n",
    "    df_15min.to_csv(f'../data/CAMS/cams_time_series_15min/cams_time_series_15min_site{row['Site_id']:02d}.csv',index=False)\n",
    "    df_1hr.to_csv(f'../data/CAMS/cams_time_series_1hr/cams_time_series_1hr_site{row['Site_id']:02d}.csv',index=False)"
   ]
  }
 ],
 "metadata": {
  "kernelspec": {
   "display_name": "base",
   "language": "python",
   "name": "python3"
  },
  "language_info": {
   "codemirror_mode": {
    "name": "ipython",
    "version": 3
   },
   "file_extension": ".py",
   "mimetype": "text/x-python",
   "name": "python",
   "nbconvert_exporter": "python",
   "pygments_lexer": "ipython3",
   "version": "3.12.3"
  }
 },
 "nbformat": 4,
 "nbformat_minor": 5
}
