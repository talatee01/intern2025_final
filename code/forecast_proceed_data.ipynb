{
 "cells": [
  {
   "cell_type": "code",
   "execution_count": 1,
   "id": "2053c6cc",
   "metadata": {},
   "outputs": [],
   "source": [
    "import pandas as pd\n",
    "import xarray as xr\n",
    "import numpy as np"
   ]
  },
  {
   "cell_type": "code",
   "execution_count": null,
   "id": "b4d5768b",
   "metadata": {},
   "outputs": [],
   "source": [
    "# อ่านข้อมูล radiation\n",
    "ssrd_ds = xr.open_dataset(f'../data/CAMS/cams_forecast/cams_forecast_ssrd_2023.grib',engine='cfgrib')\n",
    "\n",
    "# อ่านข้อมูล metadata\n",
    "site_df = pd.read_csv('../data/DeDe_49stations/DeDe_49sites_metadata.csv')"
   ]
  },
  {
   "cell_type": "code",
   "execution_count": null,
   "id": "b26f54cc",
   "metadata": {},
   "outputs": [],
   "source": [
    "# เตรียม datetime index สำหรับใช้เลือกข้อมูล forecast จากแต่ละวัน\n",
    "st = '2023-01-01'\n",
    "en = '2023-12-31'\n",
    "time = pd.date_range(st, en, freq='1D')\n",
    "\n",
    "for i, row in site_df.iterrows():\n",
    "    print(f'Processing site {row[\"Site_id\"]}')\n",
    "    forecast_df = pd.DataFrame()\n",
    "\n",
    "    for date in time:\n",
    "        # เลือกดึงข้อมูลจากไฟล์ grib โดยใช้ข้อมูล latitude longtitude จากไฟล์ metadata\n",
    "        df = ssrd_ds.sel(time=f'{str(date.date())}',latitude=row['lat'],longitude=row['lng'],method='nearest').to_dataframe()\n",
    "\n",
    "        # ปรับข้อมูลค่ารังสีจากแบบ ค่ารังสีสะสม ให้เป็น ค่ารังสี ณ ช่วงเวลานั้น\n",
    "        df['ssrd'] = (df['ssrd'] - df['ssrd'].shift(1).fillna(0)) / 3600\n",
    "        df['ssrdc'] = (df['ssrdc'] - df['ssrdc'].shift(1).fillna(0)) / 3600\n",
    "        forecast_df = pd.concat([forecast_df, df], axis=0)\n",
    "\n",
    "    # ลบ column และ index ที่ไม่จำเป็นออก\n",
    "    forecast_df.reset_index(drop=True,inplace=True)\n",
    "    forecast_df.drop(columns=['time','number','surface','latitude', 'longitude'], inplace=True)\n",
    "\n",
    "    # เปลี่ยนชื่อ column และ ปรับ timezone ข้อมูล\n",
    "    forecast_df.rename(columns={'valid_time': 'Datetime'}, inplace=True)\n",
    "    forecast_df.set_index('Datetime', inplace=True)\n",
    "    forecast_df = forecast_df.tz_localize('UTC').tz_convert('Asia/Bangkok').tz_localize(None)\n",
    "    forecast_df.reset_index(inplace=True)\n",
    "\n",
    "    # save ข้อมูลในรูปแบบ csv\n",
    "    forecast_df.to_csv(f'../data/CAMS/cams_forecast/all_site_1hr/cams_forecast_1hr_2023_site{row['Site_id']:02d}.csv', index=False)"
   ]
  },
  {
   "cell_type": "code",
   "execution_count": null,
   "id": "2eafa079",
   "metadata": {},
   "outputs": [],
   "source": [
    "# เตรียม datetime index สำหรับใช้เลือกข้อมูล forecast จากแต่ละวัน\n",
    "st = '2023-01-01'\n",
    "en = '2023-12-31'\n",
    "time = pd.date_range(st, en, freq='1D')\n",
    "\n",
    "for i, row in site_df.iterrows():\n",
    "    print(f'Processing site {row[\"Site_id\"]}...')\n",
    "    forecast_df = pd.DataFrame()\n",
    "    for date in time:\n",
    "        # เลือกดึงข้อมูลจากไฟล์ grib โดยใช้ข้อมูล latitude longtitude จากไฟล์ metadata\n",
    "        df = ssrd_ds.sel(time=f'{str(date.date())}',latitude=row['lat'],longitude=row['lng'],method='nearest').to_dataframe()\n",
    "\n",
    "        # ปรับข้อมูลค่ารังสีจากแบบ ค่ารังสีสะสม ให้เป็น ค่ารังสี ณ ช่วงเวลานั้น\n",
    "        df['ssrd'] = (df['ssrd'] - df['ssrd'].shift(1).fillna(0)) / 3600\n",
    "        df['ssrdc'] = (df['ssrdc'] - df['ssrdc'].shift(1).fillna(0)) / 3600\n",
    "\n",
    "        # upsampling จากรายชั่วโมงให้เป็นราย 15 นาที\n",
    "        df.set_index('valid_time', inplace=True)\n",
    "        df = df.resample('15min').asfreq()\n",
    "        df['ssrd'] = df['ssrd'].interpolate(method='linear')\n",
    "        df['ssrdc'] = df['ssrdc'].interpolate(method='linear')\n",
    "        df.reset_index(inplace=True)\n",
    "\n",
    "        forecast_df = pd.concat([forecast_df, df], axis=0)\n",
    "\n",
    "    # ลบ column และ index ที่ไม่จำเป็นออก\n",
    "    forecast_df.reset_index(drop=True,inplace=True)\n",
    "    forecast_df.drop(columns=['time','number','surface','latitude', 'longitude'], inplace=True)\n",
    "    forecast_df.rename(columns={'valid_time': 'Datetime'}, inplace=True)\n",
    "\n",
    "    # เปลี่ยนชื่อ column และ ปรับ timezone ข้อมูล\n",
    "    forecast_df.set_index('Datetime', inplace=True)\n",
    "    forecast_df = forecast_df.tz_localize('UTC').tz_convert('Asia/Bangkok').tz_localize(None)\n",
    "    forecast_df.reset_index(inplace=True)\n",
    "\n",
    "    # save ข้อมูลในรูปแบบ csv\n",
    "    forecast_df.to_csv(f'../data/CAMS/cams_forecast/all_site_15min/cams_forecast_15min_2023_site{row['Site_id']:02d}.csv', index=False)"
   ]
  }
 ],
 "metadata": {
  "kernelspec": {
   "display_name": "base",
   "language": "python",
   "name": "python3"
  },
  "language_info": {
   "codemirror_mode": {
    "name": "ipython",
    "version": 3
   },
   "file_extension": ".py",
   "mimetype": "text/x-python",
   "name": "python",
   "nbconvert_exporter": "python",
   "pygments_lexer": "ipython3",
   "version": "3.12.3"
  }
 },
 "nbformat": 4,
 "nbformat_minor": 5
}
