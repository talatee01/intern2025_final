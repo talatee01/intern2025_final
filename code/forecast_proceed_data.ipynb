{
 "cells": [
  {
   "cell_type": "code",
   "execution_count": 1,
   "id": "2053c6cc",
   "metadata": {},
   "outputs": [],
   "source": [
    "import pandas as pd\n",
    "import xarray as xr\n",
    "import numpy as np"
   ]
  },
  {
   "cell_type": "code",
   "execution_count": 9,
   "id": "b4d5768b",
   "metadata": {},
   "outputs": [],
   "source": [
    "ssrd_ds = xr.open_dataset(f'../data/CAMS/cams_forecast/cams_forecast_ssrd_2023.grib',engine='cfgrib')\n",
    "temp_ds = xr.open_dataset(f'../data/CAMS/cams_forecast/cams_forecast_t2m_2023.grib',engine='cfgrib')\n",
    "u10_ds = xr.open_dataset('../data/CAMS/cams_forecast/cams_forecast_u10_2023.grib',engine='cfgrib')\n",
    "v10_ds = xr.open_dataset('../data/CAMS/cams_forecast/cams_forecast_v10_2023.grib',engine='cfgrib')\n",
    "\n",
    "\n",
    "site_df = pd.read_csv('../data/DeDe_49stations/DeDe_49sites_metadata.csv')"
   ]
  },
  {
   "cell_type": "code",
   "execution_count": null,
   "id": "b26f54cc",
   "metadata": {},
   "outputs": [
    {
     "name": "stdout",
     "output_type": "stream",
     "text": [
      "Processing site 49...\n"
     ]
    }
   ],
   "source": [
    "st = '2023-01-01'\n",
    "en = '2023-12-31'\n",
    "time = pd.date_range(st, en, freq='1D')\n",
    "\n",
    "for i, row in site_df.iterrows():\n",
    "\n",
    "    print(f'Processing site {row[\"Site_id\"]}...')\n",
    "    forecast_df = pd.DataFrame()\n",
    "    for date in time:\n",
    "        df = ssrd_ds.sel(time=f'{str(date.date())}',latitude=row['lat'],longitude=row['lng'],method='nearest').to_dataframe()\n",
    "        df['ssrd'] = (df['ssrd'] - df['ssrd'].shift(1).fillna(0)) / 3600\n",
    "        df['ssrdc'] = (df['ssrdc'] - df['ssrdc'].shift(1).fillna(0)) / 3600\n",
    "        forecast_df = pd.concat([forecast_df, df], axis=0)\n",
    "\n",
    "    forecast_df.reset_index(drop=True,inplace=True)\n",
    "    forecast_df.drop(columns=['time','number','surface','latitude', 'longitude'], inplace=True)\n",
    "    forecast_df.rename(columns={'valid_time': 'Datetime'}, inplace=True)\n",
    "    forecast_df.set_index('Datetime', inplace=True)\n",
    "    forecast_df = forecast_df.tz_localize('UTC').tz_convert('Asia/Bangkok').tz_localize(None)\n",
    "    forecast_df.reset_index(inplace=True)\n",
    "    forecast_df.to_csv(f'../data/CAMS/cams_forecast/all_site_1hr/cams_forecast_1hr_2023_site{row['Site_id']:02d}.csv', index=False)"
   ]
  },
  {
   "cell_type": "code",
   "execution_count": null,
   "id": "2eafa079",
   "metadata": {},
   "outputs": [
    {
     "name": "stdout",
     "output_type": "stream",
     "text": [
      "Processing site 49...\n"
     ]
    }
   ],
   "source": [
    "st = '2023-01-01'\n",
    "en = '2023-12-31'\n",
    "time = pd.date_range(st, en, freq='1D')\n",
    "\n",
    "for i, row in site_df.iterrows():\n",
    "    print(f'Processing site {row[\"Site_id\"]}...')\n",
    "    forecast_df = pd.DataFrame()\n",
    "    for date in time:\n",
    "        df = ssrd_ds.sel(time=f'{str(date.date())}',latitude=row['lat'],longitude=row['lng'],method='nearest').to_dataframe()\n",
    "        df['ssrd'] = (df['ssrd'] - df['ssrd'].shift(1).fillna(0)) / 3600\n",
    "        df['ssrdc'] = (df['ssrdc'] - df['ssrdc'].shift(1).fillna(0)) / 3600\n",
    "        df.set_index('valid_time', inplace=True)\n",
    "        df = df.resample('15min').asfreq()\n",
    "        df['ssrd'] = df['ssrd'].interpolate(method='linear')\n",
    "        df['ssrdc'] = df['ssrdc'].interpolate(method='linear')\n",
    "        df.reset_index(inplace=True)\n",
    "\n",
    "        forecast_df = pd.concat([forecast_df, df], axis=0)\n",
    "\n",
    "    forecast_df.reset_index(drop=True,inplace=True)\n",
    "    forecast_df.drop(columns=['time','number','surface','latitude', 'longitude'], inplace=True)\n",
    "    forecast_df.rename(columns={'valid_time': 'Datetime'}, inplace=True)\n",
    "    forecast_df.set_index('Datetime', inplace=True)\n",
    "    forecast_df = forecast_df.tz_localize('UTC').tz_convert('Asia/Bangkok').tz_localize(None)\n",
    "    forecast_df.reset_index(inplace=True)\n",
    "    forecast_df.to_csv(f'../data/CAMS/cams_forecast/all_site_15min/cams_forecast_15min_2023_site{row['Site_id']:02d}.csv', index=False)"
   ]
  },
  {
   "cell_type": "code",
   "execution_count": null,
   "id": "6db97a40",
   "metadata": {},
   "outputs": [
    {
     "name": "stdout",
     "output_type": "stream",
     "text": [
      "Processing site 49...\n"
     ]
    }
   ],
   "source": [
    "for i, row in site_df.iterrows():\n",
    "    print(f'Processing site {row[\"Site_id\"]}...')\n",
    "    df_1hr = pd.read_csv(f'../data/CAMS/cams_forecast/all_site_1hr/cams_forecast_1hr_2023_site{row[\"Site_id\"]:02d}.csv',parse_dates=['Datetime'])\n",
    "    df_15min = pd.read_csv(f'../data/CAMS/cams_forecast/all_site_15min/cams_forecast_15min_2023_site{row[\"Site_id\"]:02d}.csv',parse_dates=['Datetime'])\n",
    "\n",
    "    temp_df = temp_ds.sel(latitude=row['lat'], longitude=row['lng'], method='nearest').to_dataframe()\n",
    "    temp_df = temp_df.drop(index='0 days 12:00:00', level='step')\n",
    "    temp_df.rename(columns={'valid_time': 'Datetime'}, inplace=True)\n",
    "    temp_df.set_index('Datetime', inplace=True)\n",
    "    temp_df = temp_df.tz_localize('UTC').tz_convert('Asia/Bangkok').tz_localize(None)\n",
    "    temp_df.reset_index(inplace=True)\n",
    "    temp_df.drop(columns=['number', 'surface', 'latitude', 'longitude'], inplace=True)\n",
    "    temp_df = temp_df[temp_df['Datetime'].dt.year == 2023]\n",
    "\n",
    "    temp_15min = temp_df.copy()\n",
    "    temp_15min.set_index('Datetime', inplace=True)\n",
    "    temp_15min = temp_15min.resample('15min').asfreq()\n",
    "    temp_15min['t2m'] = temp_15min['t2m'].interpolate(method='linear')\n",
    "    temp_15min.reset_index(inplace=True)\n",
    "\n",
    "    df_1hr = df_1hr.merge(temp_df, on='Datetime', how='right')\n",
    "    df_1hr.to_csv(f'../data/CAMS/cams_forecast/all_site_1hr/cams_forecast_1hr_2023_site{row['Site_id']:02d}.csv',index=False)\n",
    "\n",
    "    df_15min = df_15min.merge(temp_15min, on='Datetime', how='right')\n",
    "    df_15min.to_csv(f'../data/CAMS/cams_forecast/all_site_15min/cams_forecast_15min_2023_site{row['Site_id']:02d}.csv', index=False)\n"
   ]
  },
  {
   "cell_type": "code",
   "execution_count": 10,
   "id": "aba20d5a",
   "metadata": {},
   "outputs": [
    {
     "name": "stdout",
     "output_type": "stream",
     "text": [
      "Processing site 1...\n",
      "Processing site 2...\n",
      "Processing site 3...\n",
      "Processing site 4...\n",
      "Processing site 5...\n",
      "Processing site 6...\n",
      "Processing site 7...\n",
      "Processing site 8...\n",
      "Processing site 9...\n",
      "Processing site 10...\n",
      "Processing site 11...\n",
      "Processing site 12...\n",
      "Processing site 13...\n",
      "Processing site 14...\n",
      "Processing site 15...\n",
      "Processing site 16...\n",
      "Processing site 17...\n",
      "Processing site 18...\n",
      "Processing site 19...\n",
      "Processing site 20...\n",
      "Processing site 21...\n",
      "Processing site 22...\n",
      "Processing site 23...\n",
      "Processing site 24...\n",
      "Processing site 25...\n",
      "Processing site 26...\n",
      "Processing site 27...\n",
      "Processing site 28...\n",
      "Processing site 29...\n",
      "Processing site 30...\n",
      "Processing site 31...\n",
      "Processing site 32...\n",
      "Processing site 33...\n",
      "Processing site 34...\n",
      "Processing site 35...\n",
      "Processing site 36...\n",
      "Processing site 37...\n",
      "Processing site 38...\n",
      "Processing site 39...\n",
      "Processing site 40...\n",
      "Processing site 41...\n",
      "Processing site 42...\n",
      "Processing site 43...\n",
      "Processing site 44...\n",
      "Processing site 45...\n",
      "Processing site 46...\n",
      "Processing site 47...\n",
      "Processing site 48...\n",
      "Processing site 49...\n"
     ]
    }
   ],
   "source": [
    "for i, row in site_df.iterrows():\n",
    "    print(f'Processing site {row[\"Site_id\"]}...')\n",
    "    df_1hr = pd.read_csv(f'../data/CAMS/cams_forecast/all_site_1hr/cams_forecast_1hr_2023_site{row[\"Site_id\"]:02d}.csv',parse_dates=['Datetime'])\n",
    "    df_15min = pd.read_csv(f'../data/CAMS/cams_forecast/all_site_15min/cams_forecast_15min_2023_site{row[\"Site_id\"]:02d}.csv',parse_dates=['Datetime'])\n",
    "\n",
    "    u10_df = u10_ds.sel(latitude=row['lat'], longitude=row['lng'], method='nearest').to_dataframe()\n",
    "    u10_df = u10_df.drop(index='0 days 12:00:00', level='step')\n",
    "    u10_df.rename(columns={'valid_time': 'Datetime'}, inplace=True)\n",
    "    u10_df.set_index('Datetime', inplace=True)\n",
    "    u10_df = u10_df.tz_localize('UTC').tz_convert('Asia/Bangkok').tz_localize(None)\n",
    "    u10_df.reset_index(inplace=True)\n",
    "    u10_df.drop(columns=['number', 'surface', 'latitude', 'longitude'], inplace=True)\n",
    "    u10_df = u10_df[u10_df['Datetime'].dt.year == 2023]\n",
    "\n",
    "    u10_15min = u10_df.copy()\n",
    "    u10_15min.set_index('Datetime', inplace=True)\n",
    "    u10_15min = u10_15min.resample('15min').asfreq()\n",
    "    u10_15min['u10'] = u10_15min['u10'].interpolate(method='linear')\n",
    "    u10_15min.reset_index(inplace=True)\n",
    "\n",
    "    v10_df = v10_ds.sel(latitude=row['lat'], longitude=row['lng'], method='nearest').to_dataframe()\n",
    "    v10_df = v10_df.drop(index='0 days 12:00:00', level='step')\n",
    "    v10_df.rename(columns={'valid_time': 'Datetime'}, inplace=True)\n",
    "    v10_df.set_index('Datetime', inplace=True)\n",
    "    v10_df = v10_df.tz_localize('UTC').tz_convert('Asia/Bangkok').tz_localize(None)\n",
    "    v10_df.reset_index(inplace=True)\n",
    "    v10_df.drop(columns=['number', 'surface', 'latitude', 'longitude'], inplace=True)\n",
    "    v10_df = v10_df[v10_df['Datetime'].dt.year == 2023]\n",
    "\n",
    "    v10_15min = v10_df.copy()\n",
    "    v10_15min.set_index('Datetime', inplace=True)\n",
    "    v10_15min = v10_15min.resample('15min').asfreq()\n",
    "    v10_15min['v10'] = v10_15min['v10'].interpolate(method='linear')\n",
    "    v10_15min.reset_index(inplace=True)\n",
    "\n",
    "    df_1hr = df_1hr.merge(v10_df, on='Datetime', how='right')\n",
    "    df_1hr = df_1hr.merge(u10_df, on='Datetime', how='right')\n",
    "    df_1hr.to_csv(f'../data/CAMS/cams_forecast/all_site_1hr/cams_forecast_1hr_2023_site{row['Site_id']:02d}.csv',index=False)\n",
    "\n",
    "    df_15min = df_15min.merge(u10_15min, on='Datetime', how='right')\n",
    "    df_15min = df_15min.merge(v10_15min, on='Datetime', how='right')\n",
    "    df_15min.to_csv(f'../data/CAMS/cams_forecast/all_site_15min/cams_forecast_15min_2023_site{row['Site_id']:02d}.csv', index=False)"
   ]
  },
  {
   "cell_type": "code",
   "execution_count": null,
   "id": "be706c48",
   "metadata": {},
   "outputs": [],
   "source": []
  }
 ],
 "metadata": {
  "kernelspec": {
   "display_name": "base",
   "language": "python",
   "name": "python3"
  },
  "language_info": {
   "codemirror_mode": {
    "name": "ipython",
    "version": 3
   },
   "file_extension": ".py",
   "mimetype": "text/x-python",
   "name": "python",
   "nbconvert_exporter": "python",
   "pygments_lexer": "ipython3",
   "version": "3.12.3"
  }
 },
 "nbformat": 4,
 "nbformat_minor": 5
}
