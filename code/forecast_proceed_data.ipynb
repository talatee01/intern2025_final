{
 "cells": [
  {
   "cell_type": "code",
   "execution_count": 13,
   "id": "2053c6cc",
   "metadata": {},
   "outputs": [],
   "source": [
    "import pandas as pd\n",
    "import xarray as xr\n",
    "import numpy as np"
   ]
  },
  {
   "cell_type": "code",
   "execution_count": 14,
   "id": "b4d5768b",
   "metadata": {},
   "outputs": [],
   "source": [
    "ssrd_ds = xr.open_dataset(f'../data/CAMS/cams_forecast/cams_forecast_ssrd_2023.grib',engine='cfgrib')\n",
    "temp_ds = xr.open_dataset(f'../data/CAMS/cams_forecast/cams_forecast_t2m_2023.grib',engine='cfgrib')\n",
    "\n",
    "site_df = pd.read_csv('../data/DeDe_48stations/DeDe_48sites_metadata.csv')"
   ]
  },
  {
   "cell_type": "code",
   "execution_count": null,
   "id": "2d034f44",
   "metadata": {},
   "outputs": [],
   "source": [
    "st = '2023-01-01'\n",
    "en = '2023-12-31'\n",
    "time = pd.date_range(st, en, freq='1D')\n",
    "\n",
    "for i, row in site_df.iterrows():\n",
    "    forecast_1hr_list = []\n",
    "    forecast_15min_list = []\n",
    "    \n",
    "    for date in time:\n",
    "        df = ssrd_ds.sel(time=f'{date.date()}', latitude=row['lat'], longitude=row['lng'], method='nearest').to_dataframe()\n",
    "\n",
    "        df['ssrd'] = (df['ssrd'] - df['ssrd'].shift(1).fillna(0)) / 3600\n",
    "        df['ssrdc'] = (df['ssrdc'] - df['ssrdc'].shift(1).fillna(0)) / 3600\n",
    "\n",
    "        df_15min = df.copy()\n",
    "        df_15min.set_index('valid_time', inplace=True)\n",
    "        df_15min = df_15min.resample('15min').asfreq()\n",
    "        df_15min['ssrd'].interpolate(method='linear', inplace=True)\n",
    "        df_15min['ssrdc'].interpolate(method='linear', inplace=True)\n",
    "        df_15min.reset_index(inplace=True)\n",
    "\n",
    "        forecast_1hr_list.append(df)\n",
    "        forecast_15min_list.append(df_15min)\n",
    "\n",
    "    temp_df = temp_ds.sel(latitude=row['lat'], longitude=row['lng'], method='nearest').to_dataframe()\n",
    "    temp_df = temp_df.drop(index='0 days 12:00:00', level='step')\n",
    "    temp_df.reset_index(inplace=True)\n",
    "    temp_df.drop(columns=['step','time','number', 'surface', 'latitude', 'longitude'], inplace=True)\n",
    "    temp_15min = temp_df.copy()\n",
    "    temp_15min.set_index('valid_time', inplace=True)\n",
    "    temp_15min = temp_15min.resample('15min').asfreq()\n",
    "    temp_15min['t2m'].interpolate(method='linear', inplace=True)\n",
    "\n",
    "    forecast_1hr = pd.concat(forecast_1hr_list, axis=0)\n",
    "    forecast_15min = pd.concat(forecast_15min_list, axis=0)\n",
    "\n",
    "    forecast_1hr.reset_index(drop=True, inplace=True)\n",
    "    forecast_1hr = forecast_1hr.merge(temp_df, on='valid_time', how='right')\n",
    "    forecast_1hr.drop(columns=['time','number', 'surface', 'latitude', 'longitude'], inplace=True)\n",
    "    forecast_1hr.rename(columns={'valid_time': 'Datetime'}, inplace=True)\n",
    "    forecast_1hr.set_index('Datetime', inplace=True)\n",
    "    forecast_1hr = forecast_1hr.tz_localize('UTC').tz_convert('Asia/Bangkok').tz_localize(None)\n",
    "    forecast_1hr.reset_index(inplace=True)\n",
    "    forecast_1hr = forecast_1hr[forecast_1hr['Datetime'].dt.year == 2023]\n",
    "    forecast_1hr.to_csv(f'../data/CAMS/cams_forecast/all_site_1hr/cams_forecast_1hr_2023_site{row[\"Site_id\"]:02d}.csv', index=False)\n",
    "\n",
    "    forecast_15min.reset_index(drop=True, inplace=True)\n",
    "    forecast_15min = forecast_15min.merge(temp_15min, on='valid_time', how='right')\n",
    "    forecast_15min.drop(columns=['time','number', 'surface', 'latitude', 'longitude'], inplace=True)\n",
    "    forecast_15min.rename(columns={'valid_time': 'Datetime'}, inplace=True)\n",
    "    forecast_15min.set_index('Datetime', inplace=True)\n",
    "    forecast_15min = forecast_15min.tz_localize('UTC').tz_convert('Asia/Bangkok').tz_localize(None)\n",
    "    forecast_15min.reset_index(inplace=True)\n",
    "    forecast_15min = forecast_15min[forecast_15min['Datetime'].dt.year == 2023]\n",
    "    forecast_15min.to_csv(f'../data/CAMS/cams_forecast/all_site_15min/cams_forecast_15min_2023_site{row[\"Site_id\"]:02d}.csv', index=False)\n"
   ]
  }
 ],
 "metadata": {
  "kernelspec": {
   "display_name": "base",
   "language": "python",
   "name": "python3"
  },
  "language_info": {
   "codemirror_mode": {
    "name": "ipython",
    "version": 3
   },
   "file_extension": ".py",
   "mimetype": "text/x-python",
   "name": "python",
   "nbconvert_exporter": "python",
   "pygments_lexer": "ipython3",
   "version": "3.12.3"
  }
 },
 "nbformat": 4,
 "nbformat_minor": 5
}
