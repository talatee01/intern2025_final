{
 "cells": [
  {
   "cell_type": "code",
   "execution_count": null,
   "id": "5e446070",
   "metadata": {},
   "outputs": [],
   "source": [
    "import pandas as pd\n",
    "import xarray as xr\n",
    "import numpy as np"
   ]
  },
  {
   "cell_type": "code",
   "execution_count": null,
   "id": "481aa729",
   "metadata": {},
   "outputs": [],
   "source": [
    "# อ่านข้อมูล metadata \n",
    "site_df = pd.read_csv('../data/DeDe_49stations/DeDe_49sites_metadata.csv')\n",
    "\n",
    "# อ่านข้อมูล radiation \n",
    "ssrd_ds = xr.open_dataset('../data/ERA5/radiation/era_ssrd_2023.nc')\n",
    "str_ds = xr.open_dataset('../data/ERA5/radiation/STR.nc')\n",
    "ssr_ds = xr.open_dataset('../data/ERA5/radiation/SSR.nc')"
   ]
  },
  {
   "cell_type": "code",
   "execution_count": null,
   "id": "793dbc37",
   "metadata": {},
   "outputs": [],
   "source": [
    "# เก็บข้อมูล radiation ของแต่ละ site ในปี 2023\n",
    "for i, row in site_df.iterrows():\n",
    "\n",
    "    # ดึงข้อมูลที่พิกัดละติจูด/ลองจิจูดที่ใกล้ที่สุดจากแต่ละ dataset\n",
    "    ssrd_df = ssrd_ds.sel(latitude=row['lat'],longitude=row['lng'], method='nearest').to_dataframe()\n",
    "    str_df = str_ds.sel(latitude=row['lat'],longitude=row['lng'], method='nearest').to_dataframe()\n",
    "    ssr_df = ssr_ds.sel(latitude=row['lat'],longitude=row['lng'], method='nearest').to_dataframe()\n",
    "    \n",
    "    # รวมข้อมูลทุกตัวแปรของ radiation ไว้ใน DataFrame\n",
    "    df = pd.concat([ssrd_df['ssrd'], str_df['str'], ssr_df['ssr']], axis=1)\n",
    "\n",
    "    # เเปลง timezone จาก UTC เป็น (Asia/Bangkok)\n",
    "    df = df.tz_localize('UTC').tz_convert('Asia/Bangkok').tz_localize(None)\n",
    "\n",
    "    # คัดเลือกเฉพาะข้อมูลในปี 2023\n",
    "    df = df[df.index.year == 2023]\n",
    "\n",
    "    # แปลง datetime index เป็นคอลัมน์ และเปลี่ยนชื่อเป็น Datetime\n",
    "    df_1h = df.reset_index()\n",
    "    df_1h.rename(columns={'valid_time': 'Datetime'}, inplace=True)\n",
    "\n",
    "    # โหลดข้อมูลรายชั่โมงเเบบ CSV\n",
    "    df_1h.to_csv(f'../data/ERA5/radiation/all_site_1hr/era5_1hr_2023_site{row['Site_id']:02d}.csv', index=False)\n",
    "\n",
    "    # ทำการ resample ข้อมูลเป็น 15 นาที โดยใช้ interpolation\n",
    "    df = df.resample('15min').asfreq()\n",
    "    df['ssrd'] = df['ssrd'].interpolate(method='linear')\n",
    "    df['str'] = df['str'].interpolate(method='linear')\n",
    "    df['ssr'] = df['ssr'].interpolate(method='linear')\n",
    "\n",
    "    # แปลง datetime index เป็นคอลัมน์ และเปลี่ยนชื่อเป็น Datetime\n",
    "    df.reset_index(inplace=True)\n",
    "    df.rename(columns={'valid_time': 'Datetime'}, inplace=True)\n",
    "\n",
    "    # โหลดข้อมูลราย 15 นาทีเเบบ CSV\n",
    "    df.to_csv(f'../data/ERA5/radiation/all_site_15min/era5_15min_2023_site{row['Site_id']:02d}.csv', index=False)\n"
   ]
  },
  {
   "cell_type": "code",
   "execution_count": null,
   "id": "ce6c1821",
   "metadata": {},
   "outputs": [],
   "source": [
    "# อ่านข้อมูล cloud cover ของ ERA5\n",
    "cloud_ds1 = xr.open_dataset('../data/ERA5/cloud/data_era5_clound_1_2023.nc')\n",
    "cloud_ds2 = xr.open_dataset('../data/ERA5/cloud/data_era5_clound_2_2023.nc')\n",
    "cloud_ds3 = xr.open_dataset('../data/ERA5/cloud/data_era5_clound_3_2023.nc')"
   ]
  },
  {
   "cell_type": "code",
   "execution_count": null,
   "id": "057aa38a",
   "metadata": {},
   "outputs": [],
   "source": [
    "# เก็บข้อมูล cloud ของแต่ละ site ในปี 2023\n",
    "for i, row in site_df.iterrows():\n",
    "\n",
    "    # ดึงข้อมูลที่พิกัดละติจูด/ลองจิจูดที่ใกล้ที่สุดจากแต่ละ dataset\n",
    "    df1 = cloud_ds1.sel(latitude=row['lat'], longitude=row['lng'], method='nearest').to_dataframe()\n",
    "    df2 = cloud_ds2.sel(latitude=row['lat'], longitude=row['lng'], method='nearest').to_dataframe()\n",
    "    df3 = cloud_ds3.sel(latitude=row['lat'], longitude=row['lng'], method='nearest').to_dataframe()\n",
    "\n",
    "    # รวมข้อมูลทุกตัวแปรของ cloud ไว้ใน DataFrame\n",
    "    df = pd.concat([df2['lcc'], df2['mcc'], df1['hcc'], df3['tcc']], axis=1)\n",
    "\n",
    "    # คัดเลือกเฉพาะข้อมูลในปี 2023\n",
    "    df = df.tz_localize('UTC').tz_convert('Asia/Bangkok').tz_localize(None)\n",
    "\n",
    "    # ทำการ resample ข้อมูลเป็นทุก ๆ 15 นาที โดยใช้ interpolation\n",
    "    df = df.resample('15min').asfreq()\n",
    "    df = df.interpolate(method='linear')\n",
    "\n",
    "    # แปลง datetime index เป็นคอลัมน์ และเปลี่ยนชื่อเป็น Datetime\n",
    "    df.reset_index(inplace=True)\n",
    "    df.rename(columns={'valid_time':'Datetime'},inplace=True)\n",
    "\n",
    "    # โหลดข้อมูลราย 15 นาทีเเบบ CSV\n",
    "    df.to_csv(f'../data/ERA5/cloud/all_site_15min/era5_cloud_15min_2023_site{row['Site_id']:02d}.csv', index=False)\n"
   ]
  }
 ],
 "metadata": {
  "kernelspec": {
   "display_name": "base",
   "language": "python",
   "name": "python3"
  },
  "language_info": {
   "codemirror_mode": {
    "name": "ipython",
    "version": 3
   },
   "file_extension": ".py",
   "mimetype": "text/x-python",
   "name": "python",
   "nbconvert_exporter": "python",
   "pygments_lexer": "ipython3",
   "version": "3.12.3"
  }
 },
 "nbformat": 4,
 "nbformat_minor": 5
}
