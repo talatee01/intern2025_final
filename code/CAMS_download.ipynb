{
 "cells": [
  {
   "cell_type": "code",
   "execution_count": null,
   "id": "4fbef2b2",
   "metadata": {},
   "outputs": [],
   "source": [
    "import cdsapi\n",
    "import pandas as pd\n",
    "import numpy as np\n",
    "\n",
    "dataset = \"cams-solar-radiation-timeseries\""
   ]
  },
  {
   "cell_type": "code",
   "execution_count": null,
   "id": "8b2797e6",
   "metadata": {},
   "outputs": [],
   "source": [
    "site_df = pd.read_csv('../data/DeDe_48stations/DeDe_48sites_metadata.csv')"
   ]
  },
  {
   "cell_type": "code",
   "execution_count": null,
   "id": "9679c755",
   "metadata": {},
   "outputs": [],
   "source": [
    "for i, row in site_df.iterrows():\n",
    "    st_date = '2022-12-31'\n",
    "    ls_date = '2024-01-01'\n",
    "    altitude = 8\n",
    "\n",
    "    request = {\n",
    "        \"sky_type\": \"observed_cloud\",\n",
    "        \"location\": {\"longitude\": row['lng'], \"latitude\": row['lat']},\n",
    "        \"altitude\": [str(altitude)],\n",
    "        \"date\": [f\"{st_date}/{ls_date}\"],\n",
    "        \"time_step\": \"15minute\",\n",
    "        \"time_reference\": \"universal_time\",\n",
    "        \"format\": \"csv\"\n",
    "    }\n",
    "\n",
    "    client = cdsapi.Client()\n",
    "    client.retrieve(dataset, request).download(f'../data/CAMS/cams_time_series_15min/cams_solar_rad_alti_8_2023_site{row['Site_id']:02d}_15min.csv')"
   ]
  },
  {
   "cell_type": "code",
   "execution_count": null,
   "id": "49534d08",
   "metadata": {},
   "outputs": [],
   "source": [
    "for i, row in site_df.iterrows():\n",
    "    st_date = '2022-12-31'\n",
    "    ls_date = '2024-01-01'\n",
    "    altitude = 8\n",
    "\n",
    "    request = {\n",
    "        \"sky_type\": \"observed_cloud\",\n",
    "        \"location\": {\"longitude\": row['lng'], \"latitude\": row['lat']},\n",
    "        \"altitude\": [str(altitude)],\n",
    "        \"date\": [f\"{st_date}/{ls_date}\"],\n",
    "        \"time_step\": \"1hour\",\n",
    "        \"time_reference\": \"universal_time\",\n",
    "        \"format\": \"csv\"\n",
    "    }\n",
    "\n",
    "    client = cdsapi.Client()\n",
    "    client.retrieve(dataset, request).download(f'../data/CAMS/cams_time_series_1hr/cams_solar_rad_alti_8_2023_site{row['Site_id']:02d}_1hour.csv')"
   ]
  }
 ],
 "metadata": {
  "language_info": {
   "name": "python"
  }
 },
 "nbformat": 4,
 "nbformat_minor": 5
}
