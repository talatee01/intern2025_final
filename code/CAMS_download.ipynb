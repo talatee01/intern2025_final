{
 "cells": [
  {
   "cell_type": "code",
   "execution_count": null,
   "id": "4fbef2b2",
   "metadata": {},
   "outputs": [],
   "source": [
    "import cdsapi\n",
    "import pandas as pd\n",
    "import numpy as np"
   ]
  },
  {
   "cell_type": "code",
   "execution_count": null,
   "id": "8b2797e6",
   "metadata": {},
   "outputs": [],
   "source": [
    "# เลือก dataset ที่ต้องการ\n",
    "dataset = \"cams-solar-radiation-timeseries\"\n",
    "\n",
    "# อ่านข้อมูล metadata ของ site ที่ต้องการดาวน์โหลด\n",
    "site_df = pd.read_csv('../data/DeDe_49stations/DeDe_49sites_metadata.csv')"
   ]
  },
  {
   "cell_type": "code",
   "execution_count": null,
   "id": "9679c755",
   "metadata": {},
   "outputs": [],
   "source": [
    "# ดาวน์โหลดข้อมูล solar radiation จาก cams สำหรับแต่ละ site (ข้อมูลราย 15 นาที)\n",
    "for i, row in site_df.iterrows():\n",
    "\n",
    "    # เลือกช่วงเวลาของข้อมูลที่ต้องการ\n",
    "    st_date = '2022-12-31'\n",
    "    ls_date = '2024-01-01'\n",
    "    altitude = 8\n",
    "\n",
    "    request = {\n",
    "        \"sky_type\": \"observed_cloud\",\n",
    "        \"location\": {\"longitude\": row['lng'], \"latitude\": row['lat']},\n",
    "        \"altitude\": [str(altitude)],\n",
    "        \"date\": [f\"{st_date}/{ls_date}\"],\n",
    "        \"time_step\": \"15minute\",\n",
    "        \"time_reference\": \"universal_time\",\n",
    "        \"format\": \"csv\"\n",
    "    }\n",
    "\n",
    "    client = cdsapi.Client()\n",
    "    client.retrieve(dataset, request).download(f'../data/CAMS/cams_time_series_15min/cams_solar_rad_alti_8site{row['Site_id']}.csv')"
   ]
  },
  {
   "cell_type": "code",
   "execution_count": null,
   "id": "49534d08",
   "metadata": {},
   "outputs": [],
   "source": [
    "# ดาวน์โหลดข้อมูล solar radiation จาก cams สำหรับแต่ละ site (ข้อมูลรายชั่วโมง)\n",
    "for i, row in site_df.iterrows():\n",
    "    st_date = '2022-12-31'\n",
    "    ls_date = '2024-01-01'\n",
    "    altitude = 8\n",
    "\n",
    "    request = {\n",
    "        \"sky_type\": \"observed_cloud\",\n",
    "        \"location\": {\"longitude\": row['lng'], \"latitude\": row['lat']},\n",
    "        \"altitude\": [str(altitude)],\n",
    "        \"date\": [f\"{st_date}/{ls_date}\"],\n",
    "        \"time_step\": \"1hour\",\n",
    "        \"time_reference\": \"universal_time\",\n",
    "        \"format\": \"csv\"\n",
    "    }\n",
    "\n",
    "    client = cdsapi.Client()\n",
    "    client.retrieve(dataset, request).download(f'../data/CAMS/cams_time_series_1hr/cams_solar_rad_period_1hr_site{row['Site_id']}.csv')"
   ]
  }
 ],
 "metadata": {
  "kernelspec": {
   "display_name": "base",
   "language": "python",
   "name": "python3"
  },
  "language_info": {
   "codemirror_mode": {
    "name": "ipython",
    "version": 3
   },
   "file_extension": ".py",
   "mimetype": "text/x-python",
   "name": "python",
   "nbconvert_exporter": "python",
   "pygments_lexer": "ipython3",
   "version": "3.12.3"
  }
 },
 "nbformat": 4,
 "nbformat_minor": 5
}
