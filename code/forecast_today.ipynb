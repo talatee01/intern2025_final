{
 "cells": [
  {
   "cell_type": "code",
   "execution_count": 6,
   "id": "671a3bd0",
   "metadata": {},
   "outputs": [],
   "source": [
    "import cdsapi\n",
    "import xarray as xr\n",
    "import numpy as np\n",
    "import plotly.graph_objects as go\n",
    "import pandas as pd"
   ]
  },
  {
   "cell_type": "code",
   "execution_count": 7,
   "id": "ab713577",
   "metadata": {},
   "outputs": [],
   "source": [
    "today = pd.Timestamp.now().strftime('%Y-%m-%d')\n",
    "now = pd.Timestamp.now().strftime('%H:%M')\n",
    "if now < '17:00':\n",
    "    time = '12:00'\n",
    "    today = today - pd.Timedelta(days=1)\n",
    "else:\n",
    "    time = '00:00'\n"
   ]
  },
  {
   "cell_type": "code",
   "execution_count": 8,
   "id": "8b1a81d5",
   "metadata": {},
   "outputs": [
    {
     "name": "stderr",
     "output_type": "stream",
     "text": [
      "2025-07-14 22:03:05,359 INFO [2024-09-26T00:00:00] Watch our [Forum]( https://forum.ecmwf.int/) for Announcements, news and other discussed topics.\n",
      "2025-07-14 22:03:06,721 INFO Request ID is 231f1d5b-57e2-42d9-9b82-a4d6fa072797\n",
      "2025-07-14 22:03:06,951 INFO status has been updated to accepted\n",
      "2025-07-14 22:03:40,769 INFO status has been updated to running\n",
      "2025-07-14 22:06:01,352 INFO status has been updated to successful\n"
     ]
    },
    {
     "data": {
      "application/vnd.jupyter.widget-view+json": {
       "model_id": "b4956628fa944a7c8fcfb2c1a8ecfa57",
       "version_major": 2,
       "version_minor": 0
      },
      "text/plain": [
       "6058114c0859637213a33dd14e75da03.grib:   0%|          | 0.00/528k [00:00<?, ?B/s]"
      ]
     },
     "metadata": {},
     "output_type": "display_data"
    },
    {
     "data": {
      "text/plain": [
       "'cams_forecast_today.grib'"
      ]
     },
     "execution_count": 8,
     "metadata": {},
     "output_type": "execute_result"
    }
   ],
   "source": [
    "c = cdsapi.Client()\n",
    "\n",
    "dataset = \"cams-global-atmospheric-composition-forecasts\"\n",
    "request = {\n",
    "    \"variable\": [\"surface_solar_radiation_downward_clear_sky\",\n",
    "        \"surface_solar_radiation_downwards\"\n",
    "    ],\n",
    "    \"date\": [f\"{today}/{today}\"],\n",
    "    \"time\": [time],\n",
    "    \"leadtime_hour\": [\"0\",\"1\",\"2\",\"3\",\"4\",\"5\",\"6\",\"7\",\"8\",\"9\",\"10\",\n",
    "        \"11\",\"12\",\"13\",\"14\",\"15\",\"16\",\"17\",\"18\",\"19\",\"20\",\"21\",\"22\",\"23\",\"24\",\"25\",\"26\",\n",
    "        \"27\",\"28\",\"29\",\"30\",\"31\",\"32\",\"33\",\"34\",\"35\",\"36\",\"37\",\"38\",\"39\",\"40\",\"41\",\"42\",\n",
    "        \"43\",\"44\",\"45\",\"46\",\"47\",\"48\",\"49\",\"50\",\"51\",\"52\",\"53\",\"54\",\"55\",\"56\",\"57\",\"58\",\n",
    "        \"59\",\"60\",\"61\",\"62\",\"63\",\"64\",\"65\",\"66\",\"67\",\"68\",\"69\",\"70\",\"71\",\"72\",\"73\",\"74\",\n",
    "        \"75\",\"76\",\"77\",\"78\",\"79\",\"80\",\"81\",\"82\",\"83\",\"84\",\"85\",\"86\",\"87\",\"88\",\"89\",\"90\",\n",
    "        \"91\",\"92\",\"93\",\"94\",\"95\",\"96\",\"97\",\"98\",\"99\",\"100\",\"101\",\"102\",\"103\",\"104\",\"105\",\"106\",\n",
    "        \"107\",\"108\",\"109\",\"110\",\"111\",\"112\",\"113\",\"114\",\"115\",\"116\",\"117\",\"118\",\"119\",\"120\"],\n",
    "    \"type\": [\"forecast\"],\n",
    "    \"data_format\": \"grib\",\n",
    "    \"area\": [20,95,5,106]}\n",
    "\n",
    "\n",
    "\n",
    "\n",
    "\n",
    "result = c.retrieve(dataset,request)\n",
    "\n",
    "result.download(\"cams_forecast_today.grib\")\n"
   ]
  },
  {
   "cell_type": "code",
   "execution_count": 9,
   "id": "eef13793",
   "metadata": {},
   "outputs": [
    {
     "name": "stderr",
     "output_type": "stream",
     "text": [
      "Ignoring index file './cams_forecast_today.grib.5b7b6.idx' older than GRIB file\n"
     ]
    },
    {
     "data": {
      "text/html": [
       "<div><svg style=\"position: absolute; width: 0; height: 0; overflow: hidden\">\n",
       "<defs>\n",
       "<symbol id=\"icon-database\" viewBox=\"0 0 32 32\">\n",
       "<path d=\"M16 0c-8.837 0-16 2.239-16 5v4c0 2.761 7.163 5 16 5s16-2.239 16-5v-4c0-2.761-7.163-5-16-5z\"></path>\n",
       "<path d=\"M16 17c-8.837 0-16-2.239-16-5v6c0 2.761 7.163 5 16 5s16-2.239 16-5v-6c0 2.761-7.163 5-16 5z\"></path>\n",
       "<path d=\"M16 26c-8.837 0-16-2.239-16-5v6c0 2.761 7.163 5 16 5s16-2.239 16-5v-6c0 2.761-7.163 5-16 5z\"></path>\n",
       "</symbol>\n",
       "<symbol id=\"icon-file-text2\" viewBox=\"0 0 32 32\">\n",
       "<path d=\"M28.681 7.159c-0.694-0.947-1.662-2.053-2.724-3.116s-2.169-2.030-3.116-2.724c-1.612-1.182-2.393-1.319-2.841-1.319h-15.5c-1.378 0-2.5 1.121-2.5 2.5v27c0 1.378 1.122 2.5 2.5 2.5h23c1.378 0 2.5-1.122 2.5-2.5v-19.5c0-0.448-0.137-1.23-1.319-2.841zM24.543 5.457c0.959 0.959 1.712 1.825 2.268 2.543h-4.811v-4.811c0.718 0.556 1.584 1.309 2.543 2.268zM28 29.5c0 0.271-0.229 0.5-0.5 0.5h-23c-0.271 0-0.5-0.229-0.5-0.5v-27c0-0.271 0.229-0.5 0.5-0.5 0 0 15.499-0 15.5 0v7c0 0.552 0.448 1 1 1h7v19.5z\"></path>\n",
       "<path d=\"M23 26h-14c-0.552 0-1-0.448-1-1s0.448-1 1-1h14c0.552 0 1 0.448 1 1s-0.448 1-1 1z\"></path>\n",
       "<path d=\"M23 22h-14c-0.552 0-1-0.448-1-1s0.448-1 1-1h14c0.552 0 1 0.448 1 1s-0.448 1-1 1z\"></path>\n",
       "<path d=\"M23 18h-14c-0.552 0-1-0.448-1-1s0.448-1 1-1h14c0.552 0 1 0.448 1 1s-0.448 1-1 1z\"></path>\n",
       "</symbol>\n",
       "</defs>\n",
       "</svg>\n",
       "<style>/* CSS stylesheet for displaying xarray objects in jupyterlab.\n",
       " *\n",
       " */\n",
       "\n",
       ":root {\n",
       "  --xr-font-color0: var(--jp-content-font-color0, rgba(0, 0, 0, 1));\n",
       "  --xr-font-color2: var(--jp-content-font-color2, rgba(0, 0, 0, 0.54));\n",
       "  --xr-font-color3: var(--jp-content-font-color3, rgba(0, 0, 0, 0.38));\n",
       "  --xr-border-color: var(--jp-border-color2, #e0e0e0);\n",
       "  --xr-disabled-color: var(--jp-layout-color3, #bdbdbd);\n",
       "  --xr-background-color: var(--jp-layout-color0, white);\n",
       "  --xr-background-color-row-even: var(--jp-layout-color1, white);\n",
       "  --xr-background-color-row-odd: var(--jp-layout-color2, #eeeeee);\n",
       "}\n",
       "\n",
       "html[theme=dark],\n",
       "body[data-theme=dark],\n",
       "body.vscode-dark {\n",
       "  --xr-font-color0: rgba(255, 255, 255, 1);\n",
       "  --xr-font-color2: rgba(255, 255, 255, 0.54);\n",
       "  --xr-font-color3: rgba(255, 255, 255, 0.38);\n",
       "  --xr-border-color: #1F1F1F;\n",
       "  --xr-disabled-color: #515151;\n",
       "  --xr-background-color: #111111;\n",
       "  --xr-background-color-row-even: #111111;\n",
       "  --xr-background-color-row-odd: #313131;\n",
       "}\n",
       "\n",
       ".xr-wrap {\n",
       "  display: block !important;\n",
       "  min-width: 300px;\n",
       "  max-width: 700px;\n",
       "}\n",
       "\n",
       ".xr-text-repr-fallback {\n",
       "  /* fallback to plain text repr when CSS is not injected (untrusted notebook) */\n",
       "  display: none;\n",
       "}\n",
       "\n",
       ".xr-header {\n",
       "  padding-top: 6px;\n",
       "  padding-bottom: 6px;\n",
       "  margin-bottom: 4px;\n",
       "  border-bottom: solid 1px var(--xr-border-color);\n",
       "}\n",
       "\n",
       ".xr-header > div,\n",
       ".xr-header > ul {\n",
       "  display: inline;\n",
       "  margin-top: 0;\n",
       "  margin-bottom: 0;\n",
       "}\n",
       "\n",
       ".xr-obj-type,\n",
       ".xr-array-name {\n",
       "  margin-left: 2px;\n",
       "  margin-right: 10px;\n",
       "}\n",
       "\n",
       ".xr-obj-type {\n",
       "  color: var(--xr-font-color2);\n",
       "}\n",
       "\n",
       ".xr-sections {\n",
       "  padding-left: 0 !important;\n",
       "  display: grid;\n",
       "  grid-template-columns: 150px auto auto 1fr 20px 20px;\n",
       "}\n",
       "\n",
       ".xr-section-item {\n",
       "  display: contents;\n",
       "}\n",
       "\n",
       ".xr-section-item input {\n",
       "  display: none;\n",
       "}\n",
       "\n",
       ".xr-section-item input + label {\n",
       "  color: var(--xr-disabled-color);\n",
       "}\n",
       "\n",
       ".xr-section-item input:enabled + label {\n",
       "  cursor: pointer;\n",
       "  color: var(--xr-font-color2);\n",
       "}\n",
       "\n",
       ".xr-section-item input:enabled + label:hover {\n",
       "  color: var(--xr-font-color0);\n",
       "}\n",
       "\n",
       ".xr-section-summary {\n",
       "  grid-column: 1;\n",
       "  color: var(--xr-font-color2);\n",
       "  font-weight: 500;\n",
       "}\n",
       "\n",
       ".xr-section-summary > span {\n",
       "  display: inline-block;\n",
       "  padding-left: 0.5em;\n",
       "}\n",
       "\n",
       ".xr-section-summary-in:disabled + label {\n",
       "  color: var(--xr-font-color2);\n",
       "}\n",
       "\n",
       ".xr-section-summary-in + label:before {\n",
       "  display: inline-block;\n",
       "  content: '►';\n",
       "  font-size: 11px;\n",
       "  width: 15px;\n",
       "  text-align: center;\n",
       "}\n",
       "\n",
       ".xr-section-summary-in:disabled + label:before {\n",
       "  color: var(--xr-disabled-color);\n",
       "}\n",
       "\n",
       ".xr-section-summary-in:checked + label:before {\n",
       "  content: '▼';\n",
       "}\n",
       "\n",
       ".xr-section-summary-in:checked + label > span {\n",
       "  display: none;\n",
       "}\n",
       "\n",
       ".xr-section-summary,\n",
       ".xr-section-inline-details {\n",
       "  padding-top: 4px;\n",
       "  padding-bottom: 4px;\n",
       "}\n",
       "\n",
       ".xr-section-inline-details {\n",
       "  grid-column: 2 / -1;\n",
       "}\n",
       "\n",
       ".xr-section-details {\n",
       "  display: none;\n",
       "  grid-column: 1 / -1;\n",
       "  margin-bottom: 5px;\n",
       "}\n",
       "\n",
       ".xr-section-summary-in:checked ~ .xr-section-details {\n",
       "  display: contents;\n",
       "}\n",
       "\n",
       ".xr-array-wrap {\n",
       "  grid-column: 1 / -1;\n",
       "  display: grid;\n",
       "  grid-template-columns: 20px auto;\n",
       "}\n",
       "\n",
       ".xr-array-wrap > label {\n",
       "  grid-column: 1;\n",
       "  vertical-align: top;\n",
       "}\n",
       "\n",
       ".xr-preview {\n",
       "  color: var(--xr-font-color3);\n",
       "}\n",
       "\n",
       ".xr-array-preview,\n",
       ".xr-array-data {\n",
       "  padding: 0 5px !important;\n",
       "  grid-column: 2;\n",
       "}\n",
       "\n",
       ".xr-array-data,\n",
       ".xr-array-in:checked ~ .xr-array-preview {\n",
       "  display: none;\n",
       "}\n",
       "\n",
       ".xr-array-in:checked ~ .xr-array-data,\n",
       ".xr-array-preview {\n",
       "  display: inline-block;\n",
       "}\n",
       "\n",
       ".xr-dim-list {\n",
       "  display: inline-block !important;\n",
       "  list-style: none;\n",
       "  padding: 0 !important;\n",
       "  margin: 0;\n",
       "}\n",
       "\n",
       ".xr-dim-list li {\n",
       "  display: inline-block;\n",
       "  padding: 0;\n",
       "  margin: 0;\n",
       "}\n",
       "\n",
       ".xr-dim-list:before {\n",
       "  content: '(';\n",
       "}\n",
       "\n",
       ".xr-dim-list:after {\n",
       "  content: ')';\n",
       "}\n",
       "\n",
       ".xr-dim-list li:not(:last-child):after {\n",
       "  content: ',';\n",
       "  padding-right: 5px;\n",
       "}\n",
       "\n",
       ".xr-has-index {\n",
       "  font-weight: bold;\n",
       "}\n",
       "\n",
       ".xr-var-list,\n",
       ".xr-var-item {\n",
       "  display: contents;\n",
       "}\n",
       "\n",
       ".xr-var-item > div,\n",
       ".xr-var-item label,\n",
       ".xr-var-item > .xr-var-name span {\n",
       "  background-color: var(--xr-background-color-row-even);\n",
       "  margin-bottom: 0;\n",
       "}\n",
       "\n",
       ".xr-var-item > .xr-var-name:hover span {\n",
       "  padding-right: 5px;\n",
       "}\n",
       "\n",
       ".xr-var-list > li:nth-child(odd) > div,\n",
       ".xr-var-list > li:nth-child(odd) > label,\n",
       ".xr-var-list > li:nth-child(odd) > .xr-var-name span {\n",
       "  background-color: var(--xr-background-color-row-odd);\n",
       "}\n",
       "\n",
       ".xr-var-name {\n",
       "  grid-column: 1;\n",
       "}\n",
       "\n",
       ".xr-var-dims {\n",
       "  grid-column: 2;\n",
       "}\n",
       "\n",
       ".xr-var-dtype {\n",
       "  grid-column: 3;\n",
       "  text-align: right;\n",
       "  color: var(--xr-font-color2);\n",
       "}\n",
       "\n",
       ".xr-var-preview {\n",
       "  grid-column: 4;\n",
       "}\n",
       "\n",
       ".xr-index-preview {\n",
       "  grid-column: 2 / 5;\n",
       "  color: var(--xr-font-color2);\n",
       "}\n",
       "\n",
       ".xr-var-name,\n",
       ".xr-var-dims,\n",
       ".xr-var-dtype,\n",
       ".xr-preview,\n",
       ".xr-attrs dt {\n",
       "  white-space: nowrap;\n",
       "  overflow: hidden;\n",
       "  text-overflow: ellipsis;\n",
       "  padding-right: 10px;\n",
       "}\n",
       "\n",
       ".xr-var-name:hover,\n",
       ".xr-var-dims:hover,\n",
       ".xr-var-dtype:hover,\n",
       ".xr-attrs dt:hover {\n",
       "  overflow: visible;\n",
       "  width: auto;\n",
       "  z-index: 1;\n",
       "}\n",
       "\n",
       ".xr-var-attrs,\n",
       ".xr-var-data,\n",
       ".xr-index-data {\n",
       "  display: none;\n",
       "  background-color: var(--xr-background-color) !important;\n",
       "  padding-bottom: 5px !important;\n",
       "}\n",
       "\n",
       ".xr-var-attrs-in:checked ~ .xr-var-attrs,\n",
       ".xr-var-data-in:checked ~ .xr-var-data,\n",
       ".xr-index-data-in:checked ~ .xr-index-data {\n",
       "  display: block;\n",
       "}\n",
       "\n",
       ".xr-var-data > table {\n",
       "  float: right;\n",
       "}\n",
       "\n",
       ".xr-var-name span,\n",
       ".xr-var-data,\n",
       ".xr-index-name div,\n",
       ".xr-index-data,\n",
       ".xr-attrs {\n",
       "  padding-left: 25px !important;\n",
       "}\n",
       "\n",
       ".xr-attrs,\n",
       ".xr-var-attrs,\n",
       ".xr-var-data,\n",
       ".xr-index-data {\n",
       "  grid-column: 1 / -1;\n",
       "}\n",
       "\n",
       "dl.xr-attrs {\n",
       "  padding: 0;\n",
       "  margin: 0;\n",
       "  display: grid;\n",
       "  grid-template-columns: 125px auto;\n",
       "}\n",
       "\n",
       ".xr-attrs dt,\n",
       ".xr-attrs dd {\n",
       "  padding: 0;\n",
       "  margin: 0;\n",
       "  float: left;\n",
       "  padding-right: 10px;\n",
       "  width: auto;\n",
       "}\n",
       "\n",
       ".xr-attrs dt {\n",
       "  font-weight: normal;\n",
       "  grid-column: 1;\n",
       "}\n",
       "\n",
       ".xr-attrs dt:hover span {\n",
       "  display: inline-block;\n",
       "  background: var(--xr-background-color);\n",
       "  padding-right: 10px;\n",
       "}\n",
       "\n",
       ".xr-attrs dd {\n",
       "  grid-column: 2;\n",
       "  white-space: pre-wrap;\n",
       "  word-break: break-all;\n",
       "}\n",
       "\n",
       ".xr-icon-database,\n",
       ".xr-icon-file-text2,\n",
       ".xr-no-icon {\n",
       "  display: inline-block;\n",
       "  vertical-align: middle;\n",
       "  width: 1em;\n",
       "  height: 1.5em !important;\n",
       "  stroke-width: 0;\n",
       "  stroke: currentColor;\n",
       "  fill: currentColor;\n",
       "}\n",
       "</style><pre class='xr-text-repr-fallback'>&lt;xarray.Dataset&gt;\n",
       "Dimensions:     (step: 121, latitude: 38, longitude: 28)\n",
       "Coordinates:\n",
       "    number      int32 ...\n",
       "    time        datetime64[ns] ...\n",
       "  * step        (step) timedelta64[ns] 00:00:00 01:00:00 ... 5 days 00:00:00\n",
       "    surface     float64 ...\n",
       "  * latitude    (latitude) float64 19.8 19.4 19.0 18.6 18.2 ... 6.2 5.8 5.4 5.0\n",
       "  * longitude   (longitude) float64 95.0 95.4 95.8 96.2 ... 105.0 105.4 105.8\n",
       "    valid_time  (step) datetime64[ns] ...\n",
       "Data variables:\n",
       "    ssrdc       (step, latitude, longitude) float32 ...\n",
       "    ssrd        (step, latitude, longitude) float32 ...\n",
       "Attributes:\n",
       "    GRIB_edition:            1\n",
       "    GRIB_centre:             ecmf\n",
       "    GRIB_centreDescription:  European Centre for Medium-Range Weather Forecasts\n",
       "    GRIB_subCentre:          0\n",
       "    Conventions:             CF-1.7\n",
       "    institution:             European Centre for Medium-Range Weather Forecasts\n",
       "    history:                 2025-07-14T22:06 GRIB to CDM+CF via cfgrib-0.9.1...</pre><div class='xr-wrap' style='display:none'><div class='xr-header'><div class='xr-obj-type'>xarray.Dataset</div></div><ul class='xr-sections'><li class='xr-section-item'><input id='section-9bfb6362-61b1-4d0f-99e9-a8a10e78aada' class='xr-section-summary-in' type='checkbox' disabled ><label for='section-9bfb6362-61b1-4d0f-99e9-a8a10e78aada' class='xr-section-summary'  title='Expand/collapse section'>Dimensions:</label><div class='xr-section-inline-details'><ul class='xr-dim-list'><li><span class='xr-has-index'>step</span>: 121</li><li><span class='xr-has-index'>latitude</span>: 38</li><li><span class='xr-has-index'>longitude</span>: 28</li></ul></div><div class='xr-section-details'></div></li><li class='xr-section-item'><input id='section-ed66e082-a6f7-40d9-a03e-2aa031055470' class='xr-section-summary-in' type='checkbox'  checked><label for='section-ed66e082-a6f7-40d9-a03e-2aa031055470' class='xr-section-summary' >Coordinates: <span>(7)</span></label><div class='xr-section-inline-details'></div><div class='xr-section-details'><ul class='xr-var-list'><li class='xr-var-item'><div class='xr-var-name'><span>number</span></div><div class='xr-var-dims'>()</div><div class='xr-var-dtype'>int32</div><div class='xr-var-preview xr-preview'>...</div><input id='attrs-2157c450-b2fc-46ec-9462-70e80eec864c' class='xr-var-attrs-in' type='checkbox' ><label for='attrs-2157c450-b2fc-46ec-9462-70e80eec864c' title='Show/Hide attributes'><svg class='icon xr-icon-file-text2'><use xlink:href='#icon-file-text2'></use></svg></label><input id='data-ee3cb237-3e5a-4831-990a-505bfd96c72f' class='xr-var-data-in' type='checkbox'><label for='data-ee3cb237-3e5a-4831-990a-505bfd96c72f' title='Show/Hide data repr'><svg class='icon xr-icon-database'><use xlink:href='#icon-database'></use></svg></label><div class='xr-var-attrs'><dl class='xr-attrs'><dt><span>long_name :</span></dt><dd>ensemble member numerical id</dd><dt><span>units :</span></dt><dd>1</dd><dt><span>standard_name :</span></dt><dd>realization</dd></dl></div><div class='xr-var-data'><pre>[1 values with dtype=int32]</pre></div></li><li class='xr-var-item'><div class='xr-var-name'><span>time</span></div><div class='xr-var-dims'>()</div><div class='xr-var-dtype'>datetime64[ns]</div><div class='xr-var-preview xr-preview'>...</div><input id='attrs-7ec012c6-b1fb-47ae-9a54-4d864e939cf9' class='xr-var-attrs-in' type='checkbox' ><label for='attrs-7ec012c6-b1fb-47ae-9a54-4d864e939cf9' title='Show/Hide attributes'><svg class='icon xr-icon-file-text2'><use xlink:href='#icon-file-text2'></use></svg></label><input id='data-8897892d-a4f8-4002-858d-160ad103c7b6' class='xr-var-data-in' type='checkbox'><label for='data-8897892d-a4f8-4002-858d-160ad103c7b6' title='Show/Hide data repr'><svg class='icon xr-icon-database'><use xlink:href='#icon-database'></use></svg></label><div class='xr-var-attrs'><dl class='xr-attrs'><dt><span>long_name :</span></dt><dd>initial time of forecast</dd><dt><span>standard_name :</span></dt><dd>forecast_reference_time</dd></dl></div><div class='xr-var-data'><pre>[1 values with dtype=datetime64[ns]]</pre></div></li><li class='xr-var-item'><div class='xr-var-name'><span class='xr-has-index'>step</span></div><div class='xr-var-dims'>(step)</div><div class='xr-var-dtype'>timedelta64[ns]</div><div class='xr-var-preview xr-preview'>00:00:00 ... 5 days 00:00:00</div><input id='attrs-be39aa53-8a6e-4d57-9669-1c9e6f95778f' class='xr-var-attrs-in' type='checkbox' ><label for='attrs-be39aa53-8a6e-4d57-9669-1c9e6f95778f' title='Show/Hide attributes'><svg class='icon xr-icon-file-text2'><use xlink:href='#icon-file-text2'></use></svg></label><input id='data-7ac2cf7a-f112-44dc-96aa-b20836eeb7b2' class='xr-var-data-in' type='checkbox'><label for='data-7ac2cf7a-f112-44dc-96aa-b20836eeb7b2' title='Show/Hide data repr'><svg class='icon xr-icon-database'><use xlink:href='#icon-database'></use></svg></label><div class='xr-var-attrs'><dl class='xr-attrs'><dt><span>long_name :</span></dt><dd>time since forecast_reference_time</dd><dt><span>standard_name :</span></dt><dd>forecast_period</dd></dl></div><div class='xr-var-data'><pre>array([              0,   3600000000000,   7200000000000,  10800000000000,\n",
       "        14400000000000,  18000000000000,  21600000000000,  25200000000000,\n",
       "        28800000000000,  32400000000000,  36000000000000,  39600000000000,\n",
       "        43200000000000,  46800000000000,  50400000000000,  54000000000000,\n",
       "        57600000000000,  61200000000000,  64800000000000,  68400000000000,\n",
       "        72000000000000,  75600000000000,  79200000000000,  82800000000000,\n",
       "        86400000000000,  90000000000000,  93600000000000,  97200000000000,\n",
       "       100800000000000, 104400000000000, 108000000000000, 111600000000000,\n",
       "       115200000000000, 118800000000000, 122400000000000, 126000000000000,\n",
       "       129600000000000, 133200000000000, 136800000000000, 140400000000000,\n",
       "       144000000000000, 147600000000000, 151200000000000, 154800000000000,\n",
       "       158400000000000, 162000000000000, 165600000000000, 169200000000000,\n",
       "       172800000000000, 176400000000000, 180000000000000, 183600000000000,\n",
       "       187200000000000, 190800000000000, 194400000000000, 198000000000000,\n",
       "       201600000000000, 205200000000000, 208800000000000, 212400000000000,\n",
       "       216000000000000, 219600000000000, 223200000000000, 226800000000000,\n",
       "       230400000000000, 234000000000000, 237600000000000, 241200000000000,\n",
       "       244800000000000, 248400000000000, 252000000000000, 255600000000000,\n",
       "       259200000000000, 262800000000000, 266400000000000, 270000000000000,\n",
       "       273600000000000, 277200000000000, 280800000000000, 284400000000000,\n",
       "       288000000000000, 291600000000000, 295200000000000, 298800000000000,\n",
       "       302400000000000, 306000000000000, 309600000000000, 313200000000000,\n",
       "       316800000000000, 320400000000000, 324000000000000, 327600000000000,\n",
       "       331200000000000, 334800000000000, 338400000000000, 342000000000000,\n",
       "       345600000000000, 349200000000000, 352800000000000, 356400000000000,\n",
       "       360000000000000, 363600000000000, 367200000000000, 370800000000000,\n",
       "       374400000000000, 378000000000000, 381600000000000, 385200000000000,\n",
       "       388800000000000, 392400000000000, 396000000000000, 399600000000000,\n",
       "       403200000000000, 406800000000000, 410400000000000, 414000000000000,\n",
       "       417600000000000, 421200000000000, 424800000000000, 428400000000000,\n",
       "       432000000000000], dtype=&#x27;timedelta64[ns]&#x27;)</pre></div></li><li class='xr-var-item'><div class='xr-var-name'><span>surface</span></div><div class='xr-var-dims'>()</div><div class='xr-var-dtype'>float64</div><div class='xr-var-preview xr-preview'>...</div><input id='attrs-e233666f-55b4-4e9a-b261-ca4e76643268' class='xr-var-attrs-in' type='checkbox' ><label for='attrs-e233666f-55b4-4e9a-b261-ca4e76643268' title='Show/Hide attributes'><svg class='icon xr-icon-file-text2'><use xlink:href='#icon-file-text2'></use></svg></label><input id='data-dd79d831-4c1b-4617-bdd3-b848bb97064f' class='xr-var-data-in' type='checkbox'><label for='data-dd79d831-4c1b-4617-bdd3-b848bb97064f' title='Show/Hide data repr'><svg class='icon xr-icon-database'><use xlink:href='#icon-database'></use></svg></label><div class='xr-var-attrs'><dl class='xr-attrs'><dt><span>long_name :</span></dt><dd>original GRIB coordinate for key: level(surface)</dd><dt><span>units :</span></dt><dd>1</dd></dl></div><div class='xr-var-data'><pre>[1 values with dtype=float64]</pre></div></li><li class='xr-var-item'><div class='xr-var-name'><span class='xr-has-index'>latitude</span></div><div class='xr-var-dims'>(latitude)</div><div class='xr-var-dtype'>float64</div><div class='xr-var-preview xr-preview'>19.8 19.4 19.0 18.6 ... 5.8 5.4 5.0</div><input id='attrs-2d3fd63e-7ea1-4c9a-b779-2b0cb59392ae' class='xr-var-attrs-in' type='checkbox' ><label for='attrs-2d3fd63e-7ea1-4c9a-b779-2b0cb59392ae' title='Show/Hide attributes'><svg class='icon xr-icon-file-text2'><use xlink:href='#icon-file-text2'></use></svg></label><input id='data-5019dd0e-1b50-4fde-90cf-5b447e982643' class='xr-var-data-in' type='checkbox'><label for='data-5019dd0e-1b50-4fde-90cf-5b447e982643' title='Show/Hide data repr'><svg class='icon xr-icon-database'><use xlink:href='#icon-database'></use></svg></label><div class='xr-var-attrs'><dl class='xr-attrs'><dt><span>units :</span></dt><dd>degrees_north</dd><dt><span>standard_name :</span></dt><dd>latitude</dd><dt><span>long_name :</span></dt><dd>latitude</dd><dt><span>stored_direction :</span></dt><dd>decreasing</dd></dl></div><div class='xr-var-data'><pre>array([19.8, 19.4, 19. , 18.6, 18.2, 17.8, 17.4, 17. , 16.6, 16.2, 15.8, 15.4,\n",
       "       15. , 14.6, 14.2, 13.8, 13.4, 13. , 12.6, 12.2, 11.8, 11.4, 11. , 10.6,\n",
       "       10.2,  9.8,  9.4,  9. ,  8.6,  8.2,  7.8,  7.4,  7. ,  6.6,  6.2,  5.8,\n",
       "        5.4,  5. ])</pre></div></li><li class='xr-var-item'><div class='xr-var-name'><span class='xr-has-index'>longitude</span></div><div class='xr-var-dims'>(longitude)</div><div class='xr-var-dtype'>float64</div><div class='xr-var-preview xr-preview'>95.0 95.4 95.8 ... 105.4 105.8</div><input id='attrs-488756ac-82a2-4b56-b375-a29d00e2d894' class='xr-var-attrs-in' type='checkbox' ><label for='attrs-488756ac-82a2-4b56-b375-a29d00e2d894' title='Show/Hide attributes'><svg class='icon xr-icon-file-text2'><use xlink:href='#icon-file-text2'></use></svg></label><input id='data-7649f6b6-0c6e-4210-8b76-520651a6356b' class='xr-var-data-in' type='checkbox'><label for='data-7649f6b6-0c6e-4210-8b76-520651a6356b' title='Show/Hide data repr'><svg class='icon xr-icon-database'><use xlink:href='#icon-database'></use></svg></label><div class='xr-var-attrs'><dl class='xr-attrs'><dt><span>units :</span></dt><dd>degrees_east</dd><dt><span>standard_name :</span></dt><dd>longitude</dd><dt><span>long_name :</span></dt><dd>longitude</dd></dl></div><div class='xr-var-data'><pre>array([ 95. ,  95.4,  95.8,  96.2,  96.6,  97. ,  97.4,  97.8,  98.2,  98.6,\n",
       "        99. ,  99.4,  99.8, 100.2, 100.6, 101. , 101.4, 101.8, 102.2, 102.6,\n",
       "       103. , 103.4, 103.8, 104.2, 104.6, 105. , 105.4, 105.8])</pre></div></li><li class='xr-var-item'><div class='xr-var-name'><span>valid_time</span></div><div class='xr-var-dims'>(step)</div><div class='xr-var-dtype'>datetime64[ns]</div><div class='xr-var-preview xr-preview'>...</div><input id='attrs-f0fef8f1-1a44-4361-9445-e3e5034d3ad4' class='xr-var-attrs-in' type='checkbox' ><label for='attrs-f0fef8f1-1a44-4361-9445-e3e5034d3ad4' title='Show/Hide attributes'><svg class='icon xr-icon-file-text2'><use xlink:href='#icon-file-text2'></use></svg></label><input id='data-9b3ccea9-c422-4a21-a111-ab4190bb1b7e' class='xr-var-data-in' type='checkbox'><label for='data-9b3ccea9-c422-4a21-a111-ab4190bb1b7e' title='Show/Hide data repr'><svg class='icon xr-icon-database'><use xlink:href='#icon-database'></use></svg></label><div class='xr-var-attrs'><dl class='xr-attrs'><dt><span>standard_name :</span></dt><dd>time</dd><dt><span>long_name :</span></dt><dd>time</dd></dl></div><div class='xr-var-data'><pre>[121 values with dtype=datetime64[ns]]</pre></div></li></ul></div></li><li class='xr-section-item'><input id='section-33cbfc0e-b7b0-44ba-be46-75ab28abf0cc' class='xr-section-summary-in' type='checkbox'  checked><label for='section-33cbfc0e-b7b0-44ba-be46-75ab28abf0cc' class='xr-section-summary' >Data variables: <span>(2)</span></label><div class='xr-section-inline-details'></div><div class='xr-section-details'><ul class='xr-var-list'><li class='xr-var-item'><div class='xr-var-name'><span>ssrdc</span></div><div class='xr-var-dims'>(step, latitude, longitude)</div><div class='xr-var-dtype'>float32</div><div class='xr-var-preview xr-preview'>...</div><input id='attrs-afee23cf-e5a2-48bc-afd0-eba2dc683eab' class='xr-var-attrs-in' type='checkbox' ><label for='attrs-afee23cf-e5a2-48bc-afd0-eba2dc683eab' title='Show/Hide attributes'><svg class='icon xr-icon-file-text2'><use xlink:href='#icon-file-text2'></use></svg></label><input id='data-f16f1807-b767-431b-b6fc-cd5cab750f0e' class='xr-var-data-in' type='checkbox'><label for='data-f16f1807-b767-431b-b6fc-cd5cab750f0e' title='Show/Hide data repr'><svg class='icon xr-icon-database'><use xlink:href='#icon-database'></use></svg></label><div class='xr-var-attrs'><dl class='xr-attrs'><dt><span>GRIB_paramId :</span></dt><dd>228129</dd><dt><span>GRIB_dataType :</span></dt><dd>fc</dd><dt><span>GRIB_numberOfPoints :</span></dt><dd>1064</dd><dt><span>GRIB_typeOfLevel :</span></dt><dd>surface</dd><dt><span>GRIB_stepUnits :</span></dt><dd>1</dd><dt><span>GRIB_stepType :</span></dt><dd>instant</dd><dt><span>GRIB_gridType :</span></dt><dd>regular_ll</dd><dt><span>GRIB_uvRelativeToGrid :</span></dt><dd>0</dd><dt><span>GRIB_NV :</span></dt><dd>0</dd><dt><span>GRIB_Nx :</span></dt><dd>28</dd><dt><span>GRIB_Ny :</span></dt><dd>38</dd><dt><span>GRIB_cfName :</span></dt><dd>unknown</dd><dt><span>GRIB_cfVarName :</span></dt><dd>ssrdc</dd><dt><span>GRIB_gridDefinitionDescription :</span></dt><dd>Latitude/Longitude Grid</dd><dt><span>GRIB_iDirectionIncrementInDegrees :</span></dt><dd>0.4</dd><dt><span>GRIB_iScansNegatively :</span></dt><dd>0</dd><dt><span>GRIB_jDirectionIncrementInDegrees :</span></dt><dd>0.4</dd><dt><span>GRIB_jPointsAreConsecutive :</span></dt><dd>0</dd><dt><span>GRIB_jScansPositively :</span></dt><dd>0</dd><dt><span>GRIB_latitudeOfFirstGridPointInDegrees :</span></dt><dd>19.8</dd><dt><span>GRIB_latitudeOfLastGridPointInDegrees :</span></dt><dd>5.0</dd><dt><span>GRIB_longitudeOfFirstGridPointInDegrees :</span></dt><dd>95.0</dd><dt><span>GRIB_longitudeOfLastGridPointInDegrees :</span></dt><dd>105.8</dd><dt><span>GRIB_missingValue :</span></dt><dd>3.4028234663852886e+38</dd><dt><span>GRIB_name :</span></dt><dd>Surface short-wave (solar) radiation downward clear-sky</dd><dt><span>GRIB_shortName :</span></dt><dd>ssrdc</dd><dt><span>GRIB_totalNumber :</span></dt><dd>0</dd><dt><span>GRIB_units :</span></dt><dd>J m**-2</dd><dt><span>long_name :</span></dt><dd>Surface short-wave (solar) radiation downward clear-sky</dd><dt><span>units :</span></dt><dd>J m**-2</dd><dt><span>standard_name :</span></dt><dd>unknown</dd></dl></div><div class='xr-var-data'><pre>[128744 values with dtype=float32]</pre></div></li><li class='xr-var-item'><div class='xr-var-name'><span>ssrd</span></div><div class='xr-var-dims'>(step, latitude, longitude)</div><div class='xr-var-dtype'>float32</div><div class='xr-var-preview xr-preview'>...</div><input id='attrs-5a2c4ae4-ac09-4764-b2a1-f86c33b624d3' class='xr-var-attrs-in' type='checkbox' ><label for='attrs-5a2c4ae4-ac09-4764-b2a1-f86c33b624d3' title='Show/Hide attributes'><svg class='icon xr-icon-file-text2'><use xlink:href='#icon-file-text2'></use></svg></label><input id='data-74630870-b296-4940-a24c-b5633654f379' class='xr-var-data-in' type='checkbox'><label for='data-74630870-b296-4940-a24c-b5633654f379' title='Show/Hide data repr'><svg class='icon xr-icon-database'><use xlink:href='#icon-database'></use></svg></label><div class='xr-var-attrs'><dl class='xr-attrs'><dt><span>GRIB_paramId :</span></dt><dd>169</dd><dt><span>GRIB_dataType :</span></dt><dd>fc</dd><dt><span>GRIB_numberOfPoints :</span></dt><dd>1064</dd><dt><span>GRIB_typeOfLevel :</span></dt><dd>surface</dd><dt><span>GRIB_stepUnits :</span></dt><dd>1</dd><dt><span>GRIB_stepType :</span></dt><dd>instant</dd><dt><span>GRIB_gridType :</span></dt><dd>regular_ll</dd><dt><span>GRIB_uvRelativeToGrid :</span></dt><dd>0</dd><dt><span>GRIB_NV :</span></dt><dd>0</dd><dt><span>GRIB_Nx :</span></dt><dd>28</dd><dt><span>GRIB_Ny :</span></dt><dd>38</dd><dt><span>GRIB_cfName :</span></dt><dd>surface_downwelling_shortwave_flux_in_air</dd><dt><span>GRIB_cfVarName :</span></dt><dd>ssrd</dd><dt><span>GRIB_gridDefinitionDescription :</span></dt><dd>Latitude/Longitude Grid</dd><dt><span>GRIB_iDirectionIncrementInDegrees :</span></dt><dd>0.4</dd><dt><span>GRIB_iScansNegatively :</span></dt><dd>0</dd><dt><span>GRIB_jDirectionIncrementInDegrees :</span></dt><dd>0.4</dd><dt><span>GRIB_jPointsAreConsecutive :</span></dt><dd>0</dd><dt><span>GRIB_jScansPositively :</span></dt><dd>0</dd><dt><span>GRIB_latitudeOfFirstGridPointInDegrees :</span></dt><dd>19.8</dd><dt><span>GRIB_latitudeOfLastGridPointInDegrees :</span></dt><dd>5.0</dd><dt><span>GRIB_longitudeOfFirstGridPointInDegrees :</span></dt><dd>95.0</dd><dt><span>GRIB_longitudeOfLastGridPointInDegrees :</span></dt><dd>105.8</dd><dt><span>GRIB_missingValue :</span></dt><dd>3.4028234663852886e+38</dd><dt><span>GRIB_name :</span></dt><dd>Surface short-wave (solar) radiation downwards</dd><dt><span>GRIB_shortName :</span></dt><dd>ssrd</dd><dt><span>GRIB_totalNumber :</span></dt><dd>0</dd><dt><span>GRIB_units :</span></dt><dd>J m**-2</dd><dt><span>long_name :</span></dt><dd>Surface short-wave (solar) radiation downwards</dd><dt><span>units :</span></dt><dd>J m**-2</dd><dt><span>standard_name :</span></dt><dd>surface_downwelling_shortwave_flux_in_air</dd></dl></div><div class='xr-var-data'><pre>[128744 values with dtype=float32]</pre></div></li></ul></div></li><li class='xr-section-item'><input id='section-ef3eb9a3-2c71-4dc1-9a01-bb312c49a80c' class='xr-section-summary-in' type='checkbox'  ><label for='section-ef3eb9a3-2c71-4dc1-9a01-bb312c49a80c' class='xr-section-summary' >Indexes: <span>(3)</span></label><div class='xr-section-inline-details'></div><div class='xr-section-details'><ul class='xr-var-list'><li class='xr-var-item'><div class='xr-index-name'><div>step</div></div><div class='xr-index-preview'>PandasIndex</div><div></div><input id='index-e32167a8-1551-474a-af59-8988425050f8' class='xr-index-data-in' type='checkbox'/><label for='index-e32167a8-1551-474a-af59-8988425050f8' title='Show/Hide index repr'><svg class='icon xr-icon-database'><use xlink:href='#icon-database'></use></svg></label><div class='xr-index-data'><pre>PandasIndex(TimedeltaIndex([&#x27;0 days 00:00:00&#x27;, &#x27;0 days 01:00:00&#x27;, &#x27;0 days 02:00:00&#x27;,\n",
       "                &#x27;0 days 03:00:00&#x27;, &#x27;0 days 04:00:00&#x27;, &#x27;0 days 05:00:00&#x27;,\n",
       "                &#x27;0 days 06:00:00&#x27;, &#x27;0 days 07:00:00&#x27;, &#x27;0 days 08:00:00&#x27;,\n",
       "                &#x27;0 days 09:00:00&#x27;,\n",
       "                ...\n",
       "                &#x27;4 days 15:00:00&#x27;, &#x27;4 days 16:00:00&#x27;, &#x27;4 days 17:00:00&#x27;,\n",
       "                &#x27;4 days 18:00:00&#x27;, &#x27;4 days 19:00:00&#x27;, &#x27;4 days 20:00:00&#x27;,\n",
       "                &#x27;4 days 21:00:00&#x27;, &#x27;4 days 22:00:00&#x27;, &#x27;4 days 23:00:00&#x27;,\n",
       "                &#x27;5 days 00:00:00&#x27;],\n",
       "               dtype=&#x27;timedelta64[ns]&#x27;, name=&#x27;step&#x27;, length=121, freq=None))</pre></div></li><li class='xr-var-item'><div class='xr-index-name'><div>latitude</div></div><div class='xr-index-preview'>PandasIndex</div><div></div><input id='index-a8a7b8f9-5840-459d-a765-1012b404f85f' class='xr-index-data-in' type='checkbox'/><label for='index-a8a7b8f9-5840-459d-a765-1012b404f85f' title='Show/Hide index repr'><svg class='icon xr-icon-database'><use xlink:href='#icon-database'></use></svg></label><div class='xr-index-data'><pre>PandasIndex(Index([              19.8, 19.400000000000002, 19.000000000000004,\n",
       "       18.600000000000005, 18.200000000000006, 17.800000000000008,\n",
       "        17.40000000000001,  17.00000000000001, 16.600000000000012,\n",
       "       16.200000000000014, 15.800000000000013, 15.400000000000013,\n",
       "       15.000000000000012, 14.600000000000012, 14.200000000000012,\n",
       "       13.800000000000011, 13.400000000000011,  13.00000000000001,\n",
       "        12.60000000000001,  12.20000000000001,  11.80000000000001,\n",
       "        11.40000000000001, 11.000000000000009, 10.600000000000009,\n",
       "       10.200000000000008,  9.800000000000008,  9.400000000000007,\n",
       "        9.000000000000007,  8.600000000000007,  8.200000000000006,\n",
       "        7.800000000000006,  7.400000000000006,  7.000000000000005,\n",
       "        6.600000000000005,  6.200000000000005,  5.800000000000004,\n",
       "        5.400000000000004,                5.0],\n",
       "      dtype=&#x27;float64&#x27;, name=&#x27;latitude&#x27;))</pre></div></li><li class='xr-var-item'><div class='xr-index-name'><div>longitude</div></div><div class='xr-index-preview'>PandasIndex</div><div></div><input id='index-655339a3-32ab-4573-80b9-267c171f2929' class='xr-index-data-in' type='checkbox'/><label for='index-655339a3-32ab-4573-80b9-267c171f2929' title='Show/Hide index repr'><svg class='icon xr-icon-database'><use xlink:href='#icon-database'></use></svg></label><div class='xr-index-data'><pre>PandasIndex(Index([              95.0,               95.4,  95.80000000000001,\n",
       "        96.20000000000002,  96.60000000000002,  97.00000000000003,\n",
       "        97.40000000000003,  97.80000000000004,  98.20000000000005,\n",
       "        98.60000000000005,  99.00000000000006,  99.40000000000006,\n",
       "        99.80000000000007, 100.20000000000007, 100.60000000000008,\n",
       "       101.00000000000009, 101.40000000000009,  101.8000000000001,\n",
       "        102.2000000000001, 102.60000000000011, 103.00000000000011,\n",
       "       103.40000000000012, 103.80000000000013, 104.20000000000013,\n",
       "       104.60000000000014, 105.00000000000014, 105.40000000000015,\n",
       "                    105.8],\n",
       "      dtype=&#x27;float64&#x27;, name=&#x27;longitude&#x27;))</pre></div></li></ul></div></li><li class='xr-section-item'><input id='section-b7fdd1f0-9153-463d-905e-ae1ed6e0f89a' class='xr-section-summary-in' type='checkbox'  checked><label for='section-b7fdd1f0-9153-463d-905e-ae1ed6e0f89a' class='xr-section-summary' >Attributes: <span>(7)</span></label><div class='xr-section-inline-details'></div><div class='xr-section-details'><dl class='xr-attrs'><dt><span>GRIB_edition :</span></dt><dd>1</dd><dt><span>GRIB_centre :</span></dt><dd>ecmf</dd><dt><span>GRIB_centreDescription :</span></dt><dd>European Centre for Medium-Range Weather Forecasts</dd><dt><span>GRIB_subCentre :</span></dt><dd>0</dd><dt><span>Conventions :</span></dt><dd>CF-1.7</dd><dt><span>institution :</span></dt><dd>European Centre for Medium-Range Weather Forecasts</dd><dt><span>history :</span></dt><dd>2025-07-14T22:06 GRIB to CDM+CF via cfgrib-0.9.15.0/ecCodes-2.42.0 with {&quot;source&quot;: &quot;cams_forecast_today.grib&quot;, &quot;filter_by_keys&quot;: {}, &quot;encode_cf&quot;: [&quot;parameter&quot;, &quot;time&quot;, &quot;geography&quot;, &quot;vertical&quot;]}</dd></dl></div></li></ul></div></div>"
      ],
      "text/plain": [
       "<xarray.Dataset>\n",
       "Dimensions:     (step: 121, latitude: 38, longitude: 28)\n",
       "Coordinates:\n",
       "    number      int32 ...\n",
       "    time        datetime64[ns] ...\n",
       "  * step        (step) timedelta64[ns] 00:00:00 01:00:00 ... 5 days 00:00:00\n",
       "    surface     float64 ...\n",
       "  * latitude    (latitude) float64 19.8 19.4 19.0 18.6 18.2 ... 6.2 5.8 5.4 5.0\n",
       "  * longitude   (longitude) float64 95.0 95.4 95.8 96.2 ... 105.0 105.4 105.8\n",
       "    valid_time  (step) datetime64[ns] ...\n",
       "Data variables:\n",
       "    ssrdc       (step, latitude, longitude) float32 ...\n",
       "    ssrd        (step, latitude, longitude) float32 ...\n",
       "Attributes:\n",
       "    GRIB_edition:            1\n",
       "    GRIB_centre:             ecmf\n",
       "    GRIB_centreDescription:  European Centre for Medium-Range Weather Forecasts\n",
       "    GRIB_subCentre:          0\n",
       "    Conventions:             CF-1.7\n",
       "    institution:             European Centre for Medium-Range Weather Forecasts\n",
       "    history:                 2025-07-14T22:06 GRIB to CDM+CF via cfgrib-0.9.1..."
      ]
     },
     "execution_count": 9,
     "metadata": {},
     "output_type": "execute_result"
    }
   ],
   "source": [
    "lat = 13.736654207458994\n",
    "lon = 100.53215459570426\n",
    "ds = xr.open_dataset('./cams_forecast_today.grib', engine=\"cfgrib\")\n",
    "ds"
   ]
  },
  {
   "cell_type": "code",
   "execution_count": 10,
   "id": "a1928369",
   "metadata": {},
   "outputs": [
    {
     "data": {
      "application/vnd.plotly.v1+json": {
       "config": {
        "plotlyServerURL": "https://plot.ly"
       },
       "data": [
        {
         "type": "scatter",
         "x": [
          "2025-07-14T07:00:00",
          "2025-07-14T08:00:00",
          "2025-07-14T09:00:00",
          "2025-07-14T10:00:00",
          "2025-07-14T11:00:00",
          "2025-07-14T12:00:00",
          "2025-07-14T13:00:00",
          "2025-07-14T14:00:00",
          "2025-07-14T15:00:00",
          "2025-07-14T16:00:00",
          "2025-07-14T17:00:00",
          "2025-07-14T18:00:00",
          "2025-07-14T19:00:00",
          "2025-07-14T20:00:00",
          "2025-07-14T21:00:00",
          "2025-07-14T22:00:00",
          "2025-07-14T23:00:00",
          "2025-07-15T00:00:00",
          "2025-07-15T01:00:00",
          "2025-07-15T02:00:00",
          "2025-07-15T03:00:00",
          "2025-07-15T04:00:00",
          "2025-07-15T05:00:00",
          "2025-07-15T06:00:00",
          "2025-07-15T07:00:00",
          "2025-07-15T08:00:00",
          "2025-07-15T09:00:00",
          "2025-07-15T10:00:00",
          "2025-07-15T11:00:00",
          "2025-07-15T12:00:00",
          "2025-07-15T13:00:00",
          "2025-07-15T14:00:00",
          "2025-07-15T15:00:00",
          "2025-07-15T16:00:00",
          "2025-07-15T17:00:00",
          "2025-07-15T18:00:00",
          "2025-07-15T19:00:00",
          "2025-07-15T20:00:00",
          "2025-07-15T21:00:00",
          "2025-07-15T22:00:00",
          "2025-07-15T23:00:00",
          "2025-07-16T00:00:00",
          "2025-07-16T01:00:00",
          "2025-07-16T02:00:00",
          "2025-07-16T03:00:00",
          "2025-07-16T04:00:00",
          "2025-07-16T05:00:00",
          "2025-07-16T06:00:00",
          "2025-07-16T07:00:00",
          "2025-07-16T08:00:00",
          "2025-07-16T09:00:00",
          "2025-07-16T10:00:00",
          "2025-07-16T11:00:00",
          "2025-07-16T12:00:00",
          "2025-07-16T13:00:00",
          "2025-07-16T14:00:00",
          "2025-07-16T15:00:00",
          "2025-07-16T16:00:00",
          "2025-07-16T17:00:00",
          "2025-07-16T18:00:00",
          "2025-07-16T19:00:00",
          "2025-07-16T20:00:00",
          "2025-07-16T21:00:00",
          "2025-07-16T22:00:00",
          "2025-07-16T23:00:00",
          "2025-07-17T00:00:00",
          "2025-07-17T01:00:00",
          "2025-07-17T02:00:00",
          "2025-07-17T03:00:00",
          "2025-07-17T04:00:00",
          "2025-07-17T05:00:00",
          "2025-07-17T06:00:00",
          "2025-07-17T07:00:00",
          "2025-07-17T08:00:00",
          "2025-07-17T09:00:00",
          "2025-07-17T10:00:00",
          "2025-07-17T11:00:00",
          "2025-07-17T12:00:00",
          "2025-07-17T13:00:00",
          "2025-07-17T14:00:00",
          "2025-07-17T15:00:00",
          "2025-07-17T16:00:00",
          "2025-07-17T17:00:00",
          "2025-07-17T18:00:00",
          "2025-07-17T19:00:00",
          "2025-07-17T20:00:00",
          "2025-07-17T21:00:00",
          "2025-07-17T22:00:00",
          "2025-07-17T23:00:00",
          "2025-07-18T00:00:00",
          "2025-07-18T01:00:00",
          "2025-07-18T02:00:00",
          "2025-07-18T03:00:00",
          "2025-07-18T04:00:00",
          "2025-07-18T05:00:00",
          "2025-07-18T06:00:00",
          "2025-07-18T07:00:00",
          "2025-07-18T08:00:00",
          "2025-07-18T09:00:00",
          "2025-07-18T10:00:00",
          "2025-07-18T11:00:00",
          "2025-07-18T12:00:00",
          "2025-07-18T13:00:00",
          "2025-07-18T14:00:00",
          "2025-07-18T15:00:00",
          "2025-07-18T16:00:00",
          "2025-07-18T17:00:00",
          "2025-07-18T18:00:00",
          "2025-07-18T19:00:00",
          "2025-07-18T20:00:00",
          "2025-07-18T21:00:00",
          "2025-07-18T22:00:00",
          "2025-07-18T23:00:00",
          "2025-07-19T00:00:00",
          "2025-07-19T01:00:00",
          "2025-07-19T02:00:00",
          "2025-07-19T03:00:00",
          "2025-07-19T04:00:00",
          "2025-07-19T05:00:00",
          "2025-07-19T06:00:00",
          "2025-07-19T07:00:00"
         ],
         "y": [
          0,
          0.043356455862522125,
          0.10301084071397781,
          0.15068891644477844,
          0.09900976717472076,
          0.12121759355068207,
          0.1594407558441162,
          0.17000269889831543,
          0.15861991047859192,
          0.12109899520874023,
          0.07170462608337402,
          0.020563581958413124,
          0.002077314769849181,
          0,
          0,
          0,
          0,
          0,
          0,
          0,
          0,
          0,
          0,
          0,
          0.01514837983995676,
          0.053977470844984055,
          0.10285617411136627,
          0.14586296677589417,
          0.1874077171087265,
          0.21207530796527863,
          0.1790466010570526,
          0.17461173236370087,
          0.16813580691814423,
          0.11990123242139816,
          0.036756791174411774,
          0.01729135774075985,
          0.0049123456701636314,
          0,
          0,
          0,
          0,
          0,
          0,
          0,
          0,
          0,
          0,
          0,
          0.015716049820184708,
          0.06411481648683548,
          0.11363827437162399,
          0.16506913304328918,
          0.19968517124652863,
          0.2140061855316162,
          0.2339666783809662,
          0.2119395136833191,
          0.1529814898967743,
          0.12900865077972412,
          0.08281110972166061,
          0.033448148518800735,
          0.005087654106318951,
          0,
          0,
          0,
          0,
          0,
          0,
          0,
          0,
          0,
          0,
          0,
          0.018020987510681152,
          0.07303827255964279,
          0.12127161026000977,
          0.1538703739643097,
          0.20479877293109894,
          0.24261975288391113,
          0.24723580479621887,
          0.24308764934539795,
          0.2125864177942276,
          0.16480988264083862,
          0.09618642181158066,
          0.03826172649860382,
          0.007427160628139973,
          0,
          0,
          0,
          0,
          0,
          0,
          0,
          0,
          0,
          0,
          0,
          0.01854074001312256,
          0.07712962478399277,
          0.14425063133239746,
          0.19769753515720367,
          0.23813456296920776,
          0.2108098715543747,
          0.21382592618465424,
          0.20686665177345276,
          0.2173481434583664,
          0.1663987785577774,
          0.07812469452619553,
          0.024576542899012566,
          0.002940740901976824,
          0,
          0,
          0,
          0,
          0,
          0,
          0,
          0,
          0,
          0,
          0,
          0.018437037244439125
         ]
        }
       ],
       "layout": {
        "template": {
         "data": {
          "bar": [
           {
            "error_x": {
             "color": "#2a3f5f"
            },
            "error_y": {
             "color": "#2a3f5f"
            },
            "marker": {
             "line": {
              "color": "#E5ECF6",
              "width": 0.5
             },
             "pattern": {
              "fillmode": "overlay",
              "size": 10,
              "solidity": 0.2
             }
            },
            "type": "bar"
           }
          ],
          "barpolar": [
           {
            "marker": {
             "line": {
              "color": "#E5ECF6",
              "width": 0.5
             },
             "pattern": {
              "fillmode": "overlay",
              "size": 10,
              "solidity": 0.2
             }
            },
            "type": "barpolar"
           }
          ],
          "carpet": [
           {
            "aaxis": {
             "endlinecolor": "#2a3f5f",
             "gridcolor": "white",
             "linecolor": "white",
             "minorgridcolor": "white",
             "startlinecolor": "#2a3f5f"
            },
            "baxis": {
             "endlinecolor": "#2a3f5f",
             "gridcolor": "white",
             "linecolor": "white",
             "minorgridcolor": "white",
             "startlinecolor": "#2a3f5f"
            },
            "type": "carpet"
           }
          ],
          "choropleth": [
           {
            "colorbar": {
             "outlinewidth": 0,
             "ticks": ""
            },
            "type": "choropleth"
           }
          ],
          "contour": [
           {
            "colorbar": {
             "outlinewidth": 0,
             "ticks": ""
            },
            "colorscale": [
             [
              0,
              "#0d0887"
             ],
             [
              0.1111111111111111,
              "#46039f"
             ],
             [
              0.2222222222222222,
              "#7201a8"
             ],
             [
              0.3333333333333333,
              "#9c179e"
             ],
             [
              0.4444444444444444,
              "#bd3786"
             ],
             [
              0.5555555555555556,
              "#d8576b"
             ],
             [
              0.6666666666666666,
              "#ed7953"
             ],
             [
              0.7777777777777778,
              "#fb9f3a"
             ],
             [
              0.8888888888888888,
              "#fdca26"
             ],
             [
              1,
              "#f0f921"
             ]
            ],
            "type": "contour"
           }
          ],
          "contourcarpet": [
           {
            "colorbar": {
             "outlinewidth": 0,
             "ticks": ""
            },
            "type": "contourcarpet"
           }
          ],
          "heatmap": [
           {
            "colorbar": {
             "outlinewidth": 0,
             "ticks": ""
            },
            "colorscale": [
             [
              0,
              "#0d0887"
             ],
             [
              0.1111111111111111,
              "#46039f"
             ],
             [
              0.2222222222222222,
              "#7201a8"
             ],
             [
              0.3333333333333333,
              "#9c179e"
             ],
             [
              0.4444444444444444,
              "#bd3786"
             ],
             [
              0.5555555555555556,
              "#d8576b"
             ],
             [
              0.6666666666666666,
              "#ed7953"
             ],
             [
              0.7777777777777778,
              "#fb9f3a"
             ],
             [
              0.8888888888888888,
              "#fdca26"
             ],
             [
              1,
              "#f0f921"
             ]
            ],
            "type": "heatmap"
           }
          ],
          "heatmapgl": [
           {
            "colorbar": {
             "outlinewidth": 0,
             "ticks": ""
            },
            "colorscale": [
             [
              0,
              "#0d0887"
             ],
             [
              0.1111111111111111,
              "#46039f"
             ],
             [
              0.2222222222222222,
              "#7201a8"
             ],
             [
              0.3333333333333333,
              "#9c179e"
             ],
             [
              0.4444444444444444,
              "#bd3786"
             ],
             [
              0.5555555555555556,
              "#d8576b"
             ],
             [
              0.6666666666666666,
              "#ed7953"
             ],
             [
              0.7777777777777778,
              "#fb9f3a"
             ],
             [
              0.8888888888888888,
              "#fdca26"
             ],
             [
              1,
              "#f0f921"
             ]
            ],
            "type": "heatmapgl"
           }
          ],
          "histogram": [
           {
            "marker": {
             "pattern": {
              "fillmode": "overlay",
              "size": 10,
              "solidity": 0.2
             }
            },
            "type": "histogram"
           }
          ],
          "histogram2d": [
           {
            "colorbar": {
             "outlinewidth": 0,
             "ticks": ""
            },
            "colorscale": [
             [
              0,
              "#0d0887"
             ],
             [
              0.1111111111111111,
              "#46039f"
             ],
             [
              0.2222222222222222,
              "#7201a8"
             ],
             [
              0.3333333333333333,
              "#9c179e"
             ],
             [
              0.4444444444444444,
              "#bd3786"
             ],
             [
              0.5555555555555556,
              "#d8576b"
             ],
             [
              0.6666666666666666,
              "#ed7953"
             ],
             [
              0.7777777777777778,
              "#fb9f3a"
             ],
             [
              0.8888888888888888,
              "#fdca26"
             ],
             [
              1,
              "#f0f921"
             ]
            ],
            "type": "histogram2d"
           }
          ],
          "histogram2dcontour": [
           {
            "colorbar": {
             "outlinewidth": 0,
             "ticks": ""
            },
            "colorscale": [
             [
              0,
              "#0d0887"
             ],
             [
              0.1111111111111111,
              "#46039f"
             ],
             [
              0.2222222222222222,
              "#7201a8"
             ],
             [
              0.3333333333333333,
              "#9c179e"
             ],
             [
              0.4444444444444444,
              "#bd3786"
             ],
             [
              0.5555555555555556,
              "#d8576b"
             ],
             [
              0.6666666666666666,
              "#ed7953"
             ],
             [
              0.7777777777777778,
              "#fb9f3a"
             ],
             [
              0.8888888888888888,
              "#fdca26"
             ],
             [
              1,
              "#f0f921"
             ]
            ],
            "type": "histogram2dcontour"
           }
          ],
          "mesh3d": [
           {
            "colorbar": {
             "outlinewidth": 0,
             "ticks": ""
            },
            "type": "mesh3d"
           }
          ],
          "parcoords": [
           {
            "line": {
             "colorbar": {
              "outlinewidth": 0,
              "ticks": ""
             }
            },
            "type": "parcoords"
           }
          ],
          "pie": [
           {
            "automargin": true,
            "type": "pie"
           }
          ],
          "scatter": [
           {
            "fillpattern": {
             "fillmode": "overlay",
             "size": 10,
             "solidity": 0.2
            },
            "type": "scatter"
           }
          ],
          "scatter3d": [
           {
            "line": {
             "colorbar": {
              "outlinewidth": 0,
              "ticks": ""
             }
            },
            "marker": {
             "colorbar": {
              "outlinewidth": 0,
              "ticks": ""
             }
            },
            "type": "scatter3d"
           }
          ],
          "scattercarpet": [
           {
            "marker": {
             "colorbar": {
              "outlinewidth": 0,
              "ticks": ""
             }
            },
            "type": "scattercarpet"
           }
          ],
          "scattergeo": [
           {
            "marker": {
             "colorbar": {
              "outlinewidth": 0,
              "ticks": ""
             }
            },
            "type": "scattergeo"
           }
          ],
          "scattergl": [
           {
            "marker": {
             "colorbar": {
              "outlinewidth": 0,
              "ticks": ""
             }
            },
            "type": "scattergl"
           }
          ],
          "scattermapbox": [
           {
            "marker": {
             "colorbar": {
              "outlinewidth": 0,
              "ticks": ""
             }
            },
            "type": "scattermapbox"
           }
          ],
          "scatterpolar": [
           {
            "marker": {
             "colorbar": {
              "outlinewidth": 0,
              "ticks": ""
             }
            },
            "type": "scatterpolar"
           }
          ],
          "scatterpolargl": [
           {
            "marker": {
             "colorbar": {
              "outlinewidth": 0,
              "ticks": ""
             }
            },
            "type": "scatterpolargl"
           }
          ],
          "scatterternary": [
           {
            "marker": {
             "colorbar": {
              "outlinewidth": 0,
              "ticks": ""
             }
            },
            "type": "scatterternary"
           }
          ],
          "surface": [
           {
            "colorbar": {
             "outlinewidth": 0,
             "ticks": ""
            },
            "colorscale": [
             [
              0,
              "#0d0887"
             ],
             [
              0.1111111111111111,
              "#46039f"
             ],
             [
              0.2222222222222222,
              "#7201a8"
             ],
             [
              0.3333333333333333,
              "#9c179e"
             ],
             [
              0.4444444444444444,
              "#bd3786"
             ],
             [
              0.5555555555555556,
              "#d8576b"
             ],
             [
              0.6666666666666666,
              "#ed7953"
             ],
             [
              0.7777777777777778,
              "#fb9f3a"
             ],
             [
              0.8888888888888888,
              "#fdca26"
             ],
             [
              1,
              "#f0f921"
             ]
            ],
            "type": "surface"
           }
          ],
          "table": [
           {
            "cells": {
             "fill": {
              "color": "#EBF0F8"
             },
             "line": {
              "color": "white"
             }
            },
            "header": {
             "fill": {
              "color": "#C8D4E3"
             },
             "line": {
              "color": "white"
             }
            },
            "type": "table"
           }
          ]
         },
         "layout": {
          "annotationdefaults": {
           "arrowcolor": "#2a3f5f",
           "arrowhead": 0,
           "arrowwidth": 1
          },
          "autotypenumbers": "strict",
          "coloraxis": {
           "colorbar": {
            "outlinewidth": 0,
            "ticks": ""
           }
          },
          "colorscale": {
           "diverging": [
            [
             0,
             "#8e0152"
            ],
            [
             0.1,
             "#c51b7d"
            ],
            [
             0.2,
             "#de77ae"
            ],
            [
             0.3,
             "#f1b6da"
            ],
            [
             0.4,
             "#fde0ef"
            ],
            [
             0.5,
             "#f7f7f7"
            ],
            [
             0.6,
             "#e6f5d0"
            ],
            [
             0.7,
             "#b8e186"
            ],
            [
             0.8,
             "#7fbc41"
            ],
            [
             0.9,
             "#4d9221"
            ],
            [
             1,
             "#276419"
            ]
           ],
           "sequential": [
            [
             0,
             "#0d0887"
            ],
            [
             0.1111111111111111,
             "#46039f"
            ],
            [
             0.2222222222222222,
             "#7201a8"
            ],
            [
             0.3333333333333333,
             "#9c179e"
            ],
            [
             0.4444444444444444,
             "#bd3786"
            ],
            [
             0.5555555555555556,
             "#d8576b"
            ],
            [
             0.6666666666666666,
             "#ed7953"
            ],
            [
             0.7777777777777778,
             "#fb9f3a"
            ],
            [
             0.8888888888888888,
             "#fdca26"
            ],
            [
             1,
             "#f0f921"
            ]
           ],
           "sequentialminus": [
            [
             0,
             "#0d0887"
            ],
            [
             0.1111111111111111,
             "#46039f"
            ],
            [
             0.2222222222222222,
             "#7201a8"
            ],
            [
             0.3333333333333333,
             "#9c179e"
            ],
            [
             0.4444444444444444,
             "#bd3786"
            ],
            [
             0.5555555555555556,
             "#d8576b"
            ],
            [
             0.6666666666666666,
             "#ed7953"
            ],
            [
             0.7777777777777778,
             "#fb9f3a"
            ],
            [
             0.8888888888888888,
             "#fdca26"
            ],
            [
             1,
             "#f0f921"
            ]
           ]
          },
          "colorway": [
           "#636efa",
           "#EF553B",
           "#00cc96",
           "#ab63fa",
           "#FFA15A",
           "#19d3f3",
           "#FF6692",
           "#B6E880",
           "#FF97FF",
           "#FECB52"
          ],
          "font": {
           "color": "#2a3f5f"
          },
          "geo": {
           "bgcolor": "white",
           "lakecolor": "white",
           "landcolor": "#E5ECF6",
           "showlakes": true,
           "showland": true,
           "subunitcolor": "white"
          },
          "hoverlabel": {
           "align": "left"
          },
          "hovermode": "closest",
          "mapbox": {
           "style": "light"
          },
          "paper_bgcolor": "white",
          "plot_bgcolor": "#E5ECF6",
          "polar": {
           "angularaxis": {
            "gridcolor": "white",
            "linecolor": "white",
            "ticks": ""
           },
           "bgcolor": "#E5ECF6",
           "radialaxis": {
            "gridcolor": "white",
            "linecolor": "white",
            "ticks": ""
           }
          },
          "scene": {
           "xaxis": {
            "backgroundcolor": "#E5ECF6",
            "gridcolor": "white",
            "gridwidth": 2,
            "linecolor": "white",
            "showbackground": true,
            "ticks": "",
            "zerolinecolor": "white"
           },
           "yaxis": {
            "backgroundcolor": "#E5ECF6",
            "gridcolor": "white",
            "gridwidth": 2,
            "linecolor": "white",
            "showbackground": true,
            "ticks": "",
            "zerolinecolor": "white"
           },
           "zaxis": {
            "backgroundcolor": "#E5ECF6",
            "gridcolor": "white",
            "gridwidth": 2,
            "linecolor": "white",
            "showbackground": true,
            "ticks": "",
            "zerolinecolor": "white"
           }
          },
          "shapedefaults": {
           "line": {
            "color": "#2a3f5f"
           }
          },
          "ternary": {
           "aaxis": {
            "gridcolor": "white",
            "linecolor": "white",
            "ticks": ""
           },
           "baxis": {
            "gridcolor": "white",
            "linecolor": "white",
            "ticks": ""
           },
           "bgcolor": "#E5ECF6",
           "caxis": {
            "gridcolor": "white",
            "linecolor": "white",
            "ticks": ""
           }
          },
          "title": {
           "x": 0.05
          },
          "xaxis": {
           "automargin": true,
           "gridcolor": "white",
           "linecolor": "white",
           "ticks": "",
           "title": {
            "standoff": 15
           },
           "zerolinecolor": "white",
           "zerolinewidth": 2
          },
          "yaxis": {
           "automargin": true,
           "gridcolor": "white",
           "linecolor": "white",
           "ticks": "",
           "title": {
            "standoff": 15
           },
           "zerolinecolor": "white",
           "zerolinewidth": 2
          }
         }
        }
       }
      }
     },
     "metadata": {},
     "output_type": "display_data"
    }
   ],
   "source": [
    "df = ds.sel(latitude=lat,longitude=lon,method='nearest').to_dataframe()\n",
    "df['ssrd_diff'] = (df['ssrd'] - df['ssrd'].shift(1).fillna(0))/3600\n",
    "\n",
    "fig = go.Figure()\n",
    "fig.add_trace(go.Scatter(x=df['valid_time'] + pd.Timedelta(hours=7),y=df['ssrd_diff']/3600))\n",
    "fig.show()"
   ]
  }
 ],
 "metadata": {
  "kernelspec": {
   "display_name": "base",
   "language": "python",
   "name": "python3"
  },
  "language_info": {
   "codemirror_mode": {
    "name": "ipython",
    "version": 3
   },
   "file_extension": ".py",
   "mimetype": "text/x-python",
   "name": "python",
   "nbconvert_exporter": "python",
   "pygments_lexer": "ipython3",
   "version": "3.12.3"
  }
 },
 "nbformat": 4,
 "nbformat_minor": 5
}
